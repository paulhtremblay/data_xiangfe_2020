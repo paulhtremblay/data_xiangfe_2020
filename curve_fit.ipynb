{
 "cells": [
  {
   "cell_type": "code",
   "execution_count": 1,
   "metadata": {},
   "outputs": [],
   "source": [
    "import os\n",
    "import datetime\n",
    "import random\n",
    "\n",
    "from bokeh.io import show\n",
    "from bokeh.plotting import figure\n",
    "from bokeh.io import output_notebook\n",
    "from bokeh.layouts import gridplot\n",
    "from bokeh.models import ColumnDataSource, Band\n",
    "from bokeh.embed import components\n",
    "\n",
    "import numpy as np\n",
    "import math\n",
    "import scipy.optimize as optim\n",
    "import pandas as pd"
   ]
  },
  {
   "cell_type": "code",
   "execution_count": 2,
   "metadata": {},
   "outputs": [
    {
     "data": {
      "text/html": [
       "\n",
       "    <div class=\"bk-root\">\n",
       "        <a href=\"https://bokeh.org\" target=\"_blank\" class=\"bk-logo bk-logo-small bk-logo-notebook\"></a>\n",
       "        <span id=\"1001\">Loading BokehJS ...</span>\n",
       "    </div>"
      ]
     },
     "metadata": {},
     "output_type": "display_data"
    },
    {
     "data": {
      "application/javascript": [
       "\n",
       "(function(root) {\n",
       "  function now() {\n",
       "    return new Date();\n",
       "  }\n",
       "\n",
       "  var force = true;\n",
       "\n",
       "  if (typeof root._bokeh_onload_callbacks === \"undefined\" || force === true) {\n",
       "    root._bokeh_onload_callbacks = [];\n",
       "    root._bokeh_is_loading = undefined;\n",
       "  }\n",
       "\n",
       "  var JS_MIME_TYPE = 'application/javascript';\n",
       "  var HTML_MIME_TYPE = 'text/html';\n",
       "  var EXEC_MIME_TYPE = 'application/vnd.bokehjs_exec.v0+json';\n",
       "  var CLASS_NAME = 'output_bokeh rendered_html';\n",
       "\n",
       "  /**\n",
       "   * Render data to the DOM node\n",
       "   */\n",
       "  function render(props, node) {\n",
       "    var script = document.createElement(\"script\");\n",
       "    node.appendChild(script);\n",
       "  }\n",
       "\n",
       "  /**\n",
       "   * Handle when an output is cleared or removed\n",
       "   */\n",
       "  function handleClearOutput(event, handle) {\n",
       "    var cell = handle.cell;\n",
       "\n",
       "    var id = cell.output_area._bokeh_element_id;\n",
       "    var server_id = cell.output_area._bokeh_server_id;\n",
       "    // Clean up Bokeh references\n",
       "    if (id != null && id in Bokeh.index) {\n",
       "      Bokeh.index[id].model.document.clear();\n",
       "      delete Bokeh.index[id];\n",
       "    }\n",
       "\n",
       "    if (server_id !== undefined) {\n",
       "      // Clean up Bokeh references\n",
       "      var cmd = \"from bokeh.io.state import curstate; print(curstate().uuid_to_server['\" + server_id + \"'].get_sessions()[0].document.roots[0]._id)\";\n",
       "      cell.notebook.kernel.execute(cmd, {\n",
       "        iopub: {\n",
       "          output: function(msg) {\n",
       "            var id = msg.content.text.trim();\n",
       "            if (id in Bokeh.index) {\n",
       "              Bokeh.index[id].model.document.clear();\n",
       "              delete Bokeh.index[id];\n",
       "            }\n",
       "          }\n",
       "        }\n",
       "      });\n",
       "      // Destroy server and session\n",
       "      var cmd = \"import bokeh.io.notebook as ion; ion.destroy_server('\" + server_id + \"')\";\n",
       "      cell.notebook.kernel.execute(cmd);\n",
       "    }\n",
       "  }\n",
       "\n",
       "  /**\n",
       "   * Handle when a new output is added\n",
       "   */\n",
       "  function handleAddOutput(event, handle) {\n",
       "    var output_area = handle.output_area;\n",
       "    var output = handle.output;\n",
       "\n",
       "    // limit handleAddOutput to display_data with EXEC_MIME_TYPE content only\n",
       "    if ((output.output_type != \"display_data\") || (!output.data.hasOwnProperty(EXEC_MIME_TYPE))) {\n",
       "      return\n",
       "    }\n",
       "\n",
       "    var toinsert = output_area.element.find(\".\" + CLASS_NAME.split(' ')[0]);\n",
       "\n",
       "    if (output.metadata[EXEC_MIME_TYPE][\"id\"] !== undefined) {\n",
       "      toinsert[toinsert.length - 1].firstChild.textContent = output.data[JS_MIME_TYPE];\n",
       "      // store reference to embed id on output_area\n",
       "      output_area._bokeh_element_id = output.metadata[EXEC_MIME_TYPE][\"id\"];\n",
       "    }\n",
       "    if (output.metadata[EXEC_MIME_TYPE][\"server_id\"] !== undefined) {\n",
       "      var bk_div = document.createElement(\"div\");\n",
       "      bk_div.innerHTML = output.data[HTML_MIME_TYPE];\n",
       "      var script_attrs = bk_div.children[0].attributes;\n",
       "      for (var i = 0; i < script_attrs.length; i++) {\n",
       "        toinsert[toinsert.length - 1].firstChild.setAttribute(script_attrs[i].name, script_attrs[i].value);\n",
       "        toinsert[toinsert.length - 1].firstChild.textContent = bk_div.children[0].textContent\n",
       "      }\n",
       "      // store reference to server id on output_area\n",
       "      output_area._bokeh_server_id = output.metadata[EXEC_MIME_TYPE][\"server_id\"];\n",
       "    }\n",
       "  }\n",
       "\n",
       "  function register_renderer(events, OutputArea) {\n",
       "\n",
       "    function append_mime(data, metadata, element) {\n",
       "      // create a DOM node to render to\n",
       "      var toinsert = this.create_output_subarea(\n",
       "        metadata,\n",
       "        CLASS_NAME,\n",
       "        EXEC_MIME_TYPE\n",
       "      );\n",
       "      this.keyboard_manager.register_events(toinsert);\n",
       "      // Render to node\n",
       "      var props = {data: data, metadata: metadata[EXEC_MIME_TYPE]};\n",
       "      render(props, toinsert[toinsert.length - 1]);\n",
       "      element.append(toinsert);\n",
       "      return toinsert\n",
       "    }\n",
       "\n",
       "    /* Handle when an output is cleared or removed */\n",
       "    events.on('clear_output.CodeCell', handleClearOutput);\n",
       "    events.on('delete.Cell', handleClearOutput);\n",
       "\n",
       "    /* Handle when a new output is added */\n",
       "    events.on('output_added.OutputArea', handleAddOutput);\n",
       "\n",
       "    /**\n",
       "     * Register the mime type and append_mime function with output_area\n",
       "     */\n",
       "    OutputArea.prototype.register_mime_type(EXEC_MIME_TYPE, append_mime, {\n",
       "      /* Is output safe? */\n",
       "      safe: true,\n",
       "      /* Index of renderer in `output_area.display_order` */\n",
       "      index: 0\n",
       "    });\n",
       "  }\n",
       "\n",
       "  // register the mime type if in Jupyter Notebook environment and previously unregistered\n",
       "  if (root.Jupyter !== undefined) {\n",
       "    var events = require('base/js/events');\n",
       "    var OutputArea = require('notebook/js/outputarea').OutputArea;\n",
       "\n",
       "    if (OutputArea.prototype.mime_types().indexOf(EXEC_MIME_TYPE) == -1) {\n",
       "      register_renderer(events, OutputArea);\n",
       "    }\n",
       "  }\n",
       "\n",
       "  \n",
       "  if (typeof (root._bokeh_timeout) === \"undefined\" || force === true) {\n",
       "    root._bokeh_timeout = Date.now() + 5000;\n",
       "    root._bokeh_failed_load = false;\n",
       "  }\n",
       "\n",
       "  var NB_LOAD_WARNING = {'data': {'text/html':\n",
       "     \"<div style='background-color: #fdd'>\\n\"+\n",
       "     \"<p>\\n\"+\n",
       "     \"BokehJS does not appear to have successfully loaded. If loading BokehJS from CDN, this \\n\"+\n",
       "     \"may be due to a slow or bad network connection. Possible fixes:\\n\"+\n",
       "     \"</p>\\n\"+\n",
       "     \"<ul>\\n\"+\n",
       "     \"<li>re-rerun `output_notebook()` to attempt to load from CDN again, or</li>\\n\"+\n",
       "     \"<li>use INLINE resources instead, as so:</li>\\n\"+\n",
       "     \"</ul>\\n\"+\n",
       "     \"<code>\\n\"+\n",
       "     \"from bokeh.resources import INLINE\\n\"+\n",
       "     \"output_notebook(resources=INLINE)\\n\"+\n",
       "     \"</code>\\n\"+\n",
       "     \"</div>\"}};\n",
       "\n",
       "  function display_loaded() {\n",
       "    var el = document.getElementById(\"1001\");\n",
       "    if (el != null) {\n",
       "      el.textContent = \"BokehJS is loading...\";\n",
       "    }\n",
       "    if (root.Bokeh !== undefined) {\n",
       "      if (el != null) {\n",
       "        el.textContent = \"BokehJS \" + root.Bokeh.version + \" successfully loaded.\";\n",
       "      }\n",
       "    } else if (Date.now() < root._bokeh_timeout) {\n",
       "      setTimeout(display_loaded, 100)\n",
       "    }\n",
       "  }\n",
       "\n",
       "\n",
       "  function run_callbacks() {\n",
       "    try {\n",
       "      root._bokeh_onload_callbacks.forEach(function(callback) {\n",
       "        if (callback != null)\n",
       "          callback();\n",
       "      });\n",
       "    } finally {\n",
       "      delete root._bokeh_onload_callbacks\n",
       "    }\n",
       "    console.debug(\"Bokeh: all callbacks have finished\");\n",
       "  }\n",
       "\n",
       "  function load_libs(css_urls, js_urls, callback) {\n",
       "    if (css_urls == null) css_urls = [];\n",
       "    if (js_urls == null) js_urls = [];\n",
       "\n",
       "    root._bokeh_onload_callbacks.push(callback);\n",
       "    if (root._bokeh_is_loading > 0) {\n",
       "      console.debug(\"Bokeh: BokehJS is being loaded, scheduling callback at\", now());\n",
       "      return null;\n",
       "    }\n",
       "    if (js_urls == null || js_urls.length === 0) {\n",
       "      run_callbacks();\n",
       "      return null;\n",
       "    }\n",
       "    console.debug(\"Bokeh: BokehJS not loaded, scheduling load and callback at\", now());\n",
       "    root._bokeh_is_loading = css_urls.length + js_urls.length;\n",
       "\n",
       "    function on_load() {\n",
       "      root._bokeh_is_loading--;\n",
       "      if (root._bokeh_is_loading === 0) {\n",
       "        console.debug(\"Bokeh: all BokehJS libraries/stylesheets loaded\");\n",
       "        run_callbacks()\n",
       "      }\n",
       "    }\n",
       "\n",
       "    function on_error() {\n",
       "      console.error(\"failed to load \" + url);\n",
       "    }\n",
       "\n",
       "    for (var i = 0; i < css_urls.length; i++) {\n",
       "      var url = css_urls[i];\n",
       "      const element = document.createElement(\"link\");\n",
       "      element.onload = on_load;\n",
       "      element.onerror = on_error;\n",
       "      element.rel = \"stylesheet\";\n",
       "      element.type = \"text/css\";\n",
       "      element.href = url;\n",
       "      console.debug(\"Bokeh: injecting link tag for BokehJS stylesheet: \", url);\n",
       "      document.body.appendChild(element);\n",
       "    }\n",
       "\n",
       "    const hashes = {\"https://cdn.bokeh.org/bokeh/release/bokeh-2.1.1.min.js\": \"kLr4fYcqcSpbuI95brIH3vnnYCquzzSxHPU6XGQCIkQRGJwhg0StNbj1eegrHs12\", \"https://cdn.bokeh.org/bokeh/release/bokeh-widgets-2.1.1.min.js\": \"xIGPmVtaOm+z0BqfSOMn4lOR6ciex448GIKG4eE61LsAvmGj48XcMQZtKcE/UXZe\", \"https://cdn.bokeh.org/bokeh/release/bokeh-tables-2.1.1.min.js\": \"Dc9u1wF/0zApGIWoBbH77iWEHtdmkuYWG839Uzmv8y8yBLXebjO9ZnERsde5Ln/P\", \"https://cdn.bokeh.org/bokeh/release/bokeh-gl-2.1.1.min.js\": \"cT9JaBz7GiRXdENrJLZNSC6eMNF3nh3fa5fTF51Svp+ukxPdwcU5kGXGPBgDCa2j\"};\n",
       "\n",
       "    for (var i = 0; i < js_urls.length; i++) {\n",
       "      var url = js_urls[i];\n",
       "      var element = document.createElement('script');\n",
       "      element.onload = on_load;\n",
       "      element.onerror = on_error;\n",
       "      element.async = false;\n",
       "      element.src = url;\n",
       "      if (url in hashes) {\n",
       "        element.crossOrigin = \"anonymous\";\n",
       "        element.integrity = \"sha384-\" + hashes[url];\n",
       "      }\n",
       "      console.debug(\"Bokeh: injecting script tag for BokehJS library: \", url);\n",
       "      document.head.appendChild(element);\n",
       "    }\n",
       "  };\n",
       "\n",
       "  function inject_raw_css(css) {\n",
       "    const element = document.createElement(\"style\");\n",
       "    element.appendChild(document.createTextNode(css));\n",
       "    document.body.appendChild(element);\n",
       "  }\n",
       "\n",
       "  \n",
       "  var js_urls = [\"https://cdn.bokeh.org/bokeh/release/bokeh-2.1.1.min.js\", \"https://cdn.bokeh.org/bokeh/release/bokeh-widgets-2.1.1.min.js\", \"https://cdn.bokeh.org/bokeh/release/bokeh-tables-2.1.1.min.js\", \"https://cdn.bokeh.org/bokeh/release/bokeh-gl-2.1.1.min.js\"];\n",
       "  var css_urls = [];\n",
       "  \n",
       "\n",
       "  var inline_js = [\n",
       "    function(Bokeh) {\n",
       "      Bokeh.set_log_level(\"info\");\n",
       "    },\n",
       "    function(Bokeh) {\n",
       "    \n",
       "    \n",
       "    }\n",
       "  ];\n",
       "\n",
       "  function run_inline_js() {\n",
       "    \n",
       "    if (root.Bokeh !== undefined || force === true) {\n",
       "      \n",
       "    for (var i = 0; i < inline_js.length; i++) {\n",
       "      inline_js[i].call(root, root.Bokeh);\n",
       "    }\n",
       "    if (force === true) {\n",
       "        display_loaded();\n",
       "      }} else if (Date.now() < root._bokeh_timeout) {\n",
       "      setTimeout(run_inline_js, 100);\n",
       "    } else if (!root._bokeh_failed_load) {\n",
       "      console.log(\"Bokeh: BokehJS failed to load within specified timeout.\");\n",
       "      root._bokeh_failed_load = true;\n",
       "    } else if (force !== true) {\n",
       "      var cell = $(document.getElementById(\"1001\")).parents('.cell').data().cell;\n",
       "      cell.output_area.append_execute_result(NB_LOAD_WARNING)\n",
       "    }\n",
       "\n",
       "  }\n",
       "\n",
       "  if (root._bokeh_is_loading === 0) {\n",
       "    console.debug(\"Bokeh: BokehJS loaded, going straight to plotting\");\n",
       "    run_inline_js();\n",
       "  } else {\n",
       "    load_libs(css_urls, js_urls, function() {\n",
       "      console.debug(\"Bokeh: BokehJS plotting callback run at\", now());\n",
       "      run_inline_js();\n",
       "    });\n",
       "  }\n",
       "}(window));"
      ],
      "application/vnd.bokehjs_load.v0+json": "\n(function(root) {\n  function now() {\n    return new Date();\n  }\n\n  var force = true;\n\n  if (typeof root._bokeh_onload_callbacks === \"undefined\" || force === true) {\n    root._bokeh_onload_callbacks = [];\n    root._bokeh_is_loading = undefined;\n  }\n\n  \n\n  \n  if (typeof (root._bokeh_timeout) === \"undefined\" || force === true) {\n    root._bokeh_timeout = Date.now() + 5000;\n    root._bokeh_failed_load = false;\n  }\n\n  var NB_LOAD_WARNING = {'data': {'text/html':\n     \"<div style='background-color: #fdd'>\\n\"+\n     \"<p>\\n\"+\n     \"BokehJS does not appear to have successfully loaded. If loading BokehJS from CDN, this \\n\"+\n     \"may be due to a slow or bad network connection. Possible fixes:\\n\"+\n     \"</p>\\n\"+\n     \"<ul>\\n\"+\n     \"<li>re-rerun `output_notebook()` to attempt to load from CDN again, or</li>\\n\"+\n     \"<li>use INLINE resources instead, as so:</li>\\n\"+\n     \"</ul>\\n\"+\n     \"<code>\\n\"+\n     \"from bokeh.resources import INLINE\\n\"+\n     \"output_notebook(resources=INLINE)\\n\"+\n     \"</code>\\n\"+\n     \"</div>\"}};\n\n  function display_loaded() {\n    var el = document.getElementById(\"1001\");\n    if (el != null) {\n      el.textContent = \"BokehJS is loading...\";\n    }\n    if (root.Bokeh !== undefined) {\n      if (el != null) {\n        el.textContent = \"BokehJS \" + root.Bokeh.version + \" successfully loaded.\";\n      }\n    } else if (Date.now() < root._bokeh_timeout) {\n      setTimeout(display_loaded, 100)\n    }\n  }\n\n\n  function run_callbacks() {\n    try {\n      root._bokeh_onload_callbacks.forEach(function(callback) {\n        if (callback != null)\n          callback();\n      });\n    } finally {\n      delete root._bokeh_onload_callbacks\n    }\n    console.debug(\"Bokeh: all callbacks have finished\");\n  }\n\n  function load_libs(css_urls, js_urls, callback) {\n    if (css_urls == null) css_urls = [];\n    if (js_urls == null) js_urls = [];\n\n    root._bokeh_onload_callbacks.push(callback);\n    if (root._bokeh_is_loading > 0) {\n      console.debug(\"Bokeh: BokehJS is being loaded, scheduling callback at\", now());\n      return null;\n    }\n    if (js_urls == null || js_urls.length === 0) {\n      run_callbacks();\n      return null;\n    }\n    console.debug(\"Bokeh: BokehJS not loaded, scheduling load and callback at\", now());\n    root._bokeh_is_loading = css_urls.length + js_urls.length;\n\n    function on_load() {\n      root._bokeh_is_loading--;\n      if (root._bokeh_is_loading === 0) {\n        console.debug(\"Bokeh: all BokehJS libraries/stylesheets loaded\");\n        run_callbacks()\n      }\n    }\n\n    function on_error() {\n      console.error(\"failed to load \" + url);\n    }\n\n    for (var i = 0; i < css_urls.length; i++) {\n      var url = css_urls[i];\n      const element = document.createElement(\"link\");\n      element.onload = on_load;\n      element.onerror = on_error;\n      element.rel = \"stylesheet\";\n      element.type = \"text/css\";\n      element.href = url;\n      console.debug(\"Bokeh: injecting link tag for BokehJS stylesheet: \", url);\n      document.body.appendChild(element);\n    }\n\n    const hashes = {\"https://cdn.bokeh.org/bokeh/release/bokeh-2.1.1.min.js\": \"kLr4fYcqcSpbuI95brIH3vnnYCquzzSxHPU6XGQCIkQRGJwhg0StNbj1eegrHs12\", \"https://cdn.bokeh.org/bokeh/release/bokeh-widgets-2.1.1.min.js\": \"xIGPmVtaOm+z0BqfSOMn4lOR6ciex448GIKG4eE61LsAvmGj48XcMQZtKcE/UXZe\", \"https://cdn.bokeh.org/bokeh/release/bokeh-tables-2.1.1.min.js\": \"Dc9u1wF/0zApGIWoBbH77iWEHtdmkuYWG839Uzmv8y8yBLXebjO9ZnERsde5Ln/P\", \"https://cdn.bokeh.org/bokeh/release/bokeh-gl-2.1.1.min.js\": \"cT9JaBz7GiRXdENrJLZNSC6eMNF3nh3fa5fTF51Svp+ukxPdwcU5kGXGPBgDCa2j\"};\n\n    for (var i = 0; i < js_urls.length; i++) {\n      var url = js_urls[i];\n      var element = document.createElement('script');\n      element.onload = on_load;\n      element.onerror = on_error;\n      element.async = false;\n      element.src = url;\n      if (url in hashes) {\n        element.crossOrigin = \"anonymous\";\n        element.integrity = \"sha384-\" + hashes[url];\n      }\n      console.debug(\"Bokeh: injecting script tag for BokehJS library: \", url);\n      document.head.appendChild(element);\n    }\n  };\n\n  function inject_raw_css(css) {\n    const element = document.createElement(\"style\");\n    element.appendChild(document.createTextNode(css));\n    document.body.appendChild(element);\n  }\n\n  \n  var js_urls = [\"https://cdn.bokeh.org/bokeh/release/bokeh-2.1.1.min.js\", \"https://cdn.bokeh.org/bokeh/release/bokeh-widgets-2.1.1.min.js\", \"https://cdn.bokeh.org/bokeh/release/bokeh-tables-2.1.1.min.js\", \"https://cdn.bokeh.org/bokeh/release/bokeh-gl-2.1.1.min.js\"];\n  var css_urls = [];\n  \n\n  var inline_js = [\n    function(Bokeh) {\n      Bokeh.set_log_level(\"info\");\n    },\n    function(Bokeh) {\n    \n    \n    }\n  ];\n\n  function run_inline_js() {\n    \n    if (root.Bokeh !== undefined || force === true) {\n      \n    for (var i = 0; i < inline_js.length; i++) {\n      inline_js[i].call(root, root.Bokeh);\n    }\n    if (force === true) {\n        display_loaded();\n      }} else if (Date.now() < root._bokeh_timeout) {\n      setTimeout(run_inline_js, 100);\n    } else if (!root._bokeh_failed_load) {\n      console.log(\"Bokeh: BokehJS failed to load within specified timeout.\");\n      root._bokeh_failed_load = true;\n    } else if (force !== true) {\n      var cell = $(document.getElementById(\"1001\")).parents('.cell').data().cell;\n      cell.output_area.append_execute_result(NB_LOAD_WARNING)\n    }\n\n  }\n\n  if (root._bokeh_is_loading === 0) {\n    console.debug(\"Bokeh: BokehJS loaded, going straight to plotting\");\n    run_inline_js();\n  } else {\n    load_libs(css_urls, js_urls, function() {\n      console.debug(\"Bokeh: BokehJS plotting callback run at\", now());\n      run_inline_js();\n    });\n  }\n}(window));"
     },
     "metadata": {},
     "output_type": "display_data"
    }
   ],
   "source": [
    "output_notebook()"
   ]
  },
  {
   "cell_type": "markdown",
   "metadata": {},
   "source": [
    "# Introduction to Curve Fitting\n",
    "\n",
    "Goals for this module¶\n",
    "\n",
    "* Understand exponential functions\n",
    "* Understand that SSR is used to fit a curve to a function\n",
    "* Understand what parameters are\n",
    "* Understand the null hypothesis for an exponential function and how to determine the p value.\n",
    "* Understand the rt values for a pandemic\n",
    "\n",
    "Most of the time, you should use linear regression to find patterns in data. Only in special circumstances should you try to fit your data to a non linear function. \n",
    "\n",
    "One such case is modeling covid19. A pandemic grows exponentially. \n",
    "\n",
    "## Exponential Functions\n",
    "\n",
    "An exponential function has an *initial* value, and changes according to a *ratio*. Consider a function that has an initial value of 1, and a ratio of 2. Then the first value, $x_1$ is 1. To get the next value in the series, we multiply the previous value by the ratio. So $x_2$ = 2 * 1 = 2. To get $x_3$, we multiply $x_2$ by 2 to get 4. The first 6 numbers in this series is [1, 2, 4, 8, 16, 32].\n",
    "\n",
    "The *initial* value and *ratio* are known as parameters.\n",
    "\n",
    "## Finding the parameters of a function.\n",
    "Normally, we don't know the parameters. Instead, given a set of numbers, we wish to determine the parameters. \n",
    "\n",
    "Consider an experiment in which we test the absorption of a drug over time. As the time increases, the absorption decreases. \n",
    "\n",
    "![title](data/exp_fit2.png)\n",
    "\n",
    "The left hand graph shows the data points. The middle graphs shows a fitted line to the points. The right graph shows a second attempt at a fit. Clearly, Fit 2 is better than Fit 1 because Fit 2 is closer to the points. But how can we mathmatically determine which point is better? \n",
    "\n",
    "The fitted line is called y hat, $\\hat{y}$. The actual points are called residuals. For each point, we take the difference between the fitted line ($\\hat{y}$) and the residual. We square this difference. \n",
    "\n",
    "\n",
    "![title](data/ssr1.jpeg)\n",
    "\n",
    "We do this for each point and add all these squared distances. This is knows as SSR, the *sum of square residuals*. The smaller SSR, the better. In order to find a curve, we minimize this measurement. In math:\n",
    "\n",
    "$SSR = \\sum_{i=1}^n (y_i - \\hat{y_i})^2$\n",
    "\n",
    "In order to solve this equation, we use a function that keeps trying different values and narrows in on a solution. Lets do an example.\n",
    "\n",
    "### Risk and Alcohol data\n",
    "\n",
    "The following dataset consists of two columns. BAC is the \"blood alcohol level.\" As the BAC increases, the risk of an accident increases. It does so in an exponential fashion.\n"
   ]
  },
  {
   "cell_type": "code",
   "execution_count": 3,
   "metadata": {},
   "outputs": [
    {
     "data": {
      "text/html": [
       "<div>\n",
       "<style scoped>\n",
       "    .dataframe tbody tr th:only-of-type {\n",
       "        vertical-align: middle;\n",
       "    }\n",
       "\n",
       "    .dataframe tbody tr th {\n",
       "        vertical-align: top;\n",
       "    }\n",
       "\n",
       "    .dataframe thead th {\n",
       "        text-align: right;\n",
       "    }\n",
       "</style>\n",
       "<table border=\"1\" class=\"dataframe\">\n",
       "  <thead>\n",
       "    <tr style=\"text-align: right;\">\n",
       "      <th></th>\n",
       "      <th>BAC</th>\n",
       "      <th>risk</th>\n",
       "    </tr>\n",
       "  </thead>\n",
       "  <tbody>\n",
       "    <tr>\n",
       "      <th>0</th>\n",
       "      <td>0.00</td>\n",
       "      <td>1.00</td>\n",
       "    </tr>\n",
       "    <tr>\n",
       "      <th>1</th>\n",
       "      <td>0.01</td>\n",
       "      <td>1.03</td>\n",
       "    </tr>\n",
       "    <tr>\n",
       "      <th>2</th>\n",
       "      <td>0.03</td>\n",
       "      <td>1.06</td>\n",
       "    </tr>\n",
       "    <tr>\n",
       "      <th>3</th>\n",
       "      <td>0.05</td>\n",
       "      <td>1.38</td>\n",
       "    </tr>\n",
       "    <tr>\n",
       "      <th>4</th>\n",
       "      <td>0.07</td>\n",
       "      <td>2.09</td>\n",
       "    </tr>\n",
       "  </tbody>\n",
       "</table>\n",
       "</div>"
      ],
      "text/plain": [
       "    BAC  risk\n",
       "0  0.00  1.00\n",
       "1  0.01  1.03\n",
       "2  0.03  1.06\n",
       "3  0.05  1.38\n",
       "4  0.07  2.09"
      ]
     },
     "execution_count": 3,
     "metadata": {},
     "output_type": "execute_result"
    }
   ],
   "source": [
    "DF = pd.read_csv(os.path.join('data', 'alchohol_risk.csv'))\n",
    "DF.head()"
   ]
  },
  {
   "cell_type": "code",
   "execution_count": 4,
   "metadata": {},
   "outputs": [],
   "source": [
    "def resample(l):\n",
    "    final = []\n",
    "    for i in range(len(l)):\n",
    "        final.append(random.choice(l))\n",
    "    return final"
   ]
  },
  {
   "cell_type": "code",
   "execution_count": 5,
   "metadata": {},
   "outputs": [],
   "source": [
    "def exp_func(x, initial, ratio):\n",
    "    return initial * np.power(ratio, x - 1)"
   ]
  },
  {
   "cell_type": "markdown",
   "metadata": {},
   "source": [
    "We are already acquainted with the resample function. The exp_func takes the list of numbers (x), an initial value, and a ratio. Let's graph the values."
   ]
  },
  {
   "cell_type": "code",
   "execution_count": 6,
   "metadata": {},
   "outputs": [
    {
     "data": {
      "text/html": [
       "\n",
       "\n",
       "\n",
       "\n",
       "\n",
       "\n",
       "  <div class=\"bk-root\" id=\"8258fec8-029a-4512-ad9c-672027b3e8cb\" data-root-id=\"1002\"></div>\n"
      ]
     },
     "metadata": {},
     "output_type": "display_data"
    },
    {
     "data": {
      "application/javascript": [
       "(function(root) {\n",
       "  function embed_document(root) {\n",
       "    \n",
       "  var docs_json = {\"3023646b-676b-4e88-81bd-bd9b100f0e1a\":{\"roots\":{\"references\":[{\"attributes\":{\"below\":[{\"id\":\"1012\"}],\"center\":[{\"id\":\"1015\"},{\"id\":\"1019\"}],\"left\":[{\"id\":\"1016\"}],\"renderers\":[{\"id\":\"1037\"}],\"title\":null,\"toolbar\":{\"id\":\"1027\"},\"x_range\":{\"id\":\"1004\"},\"x_scale\":{\"id\":\"1008\"},\"y_range\":{\"id\":\"1006\"},\"y_scale\":{\"id\":\"1010\"}},\"id\":\"1002\",\"subtype\":\"Figure\",\"type\":\"Plot\"},{\"attributes\":{\"data\":{\"x\":{\"__ndarray__\":\"AAAAAAAAAAB7FK5H4XqEP7gehetRuJ4/mpmZmZmZqT/sUbgeheuxPwrXo3A9Crc/KVyPwvUovD+kcD0K16PAPzMzMzMzM8M/w/UoXI/CxT9SuB6F61HIP+F6FK5H4co/\",\"dtype\":\"float64\",\"order\":\"little\",\"shape\":[12]},\"y\":{\"__ndarray__\":\"AAAAAAAA8D97FK5H4XrwP/YoXI/C9fA/FK5H4XoU9j+4HoXrUbgAQFK4HoXrUQxApHA9CtejGUAzMzMzMzMpQJqZmZmZGTZAZmZmZmaGQ0AUrkfhelRQQFK4HoXr8VhA\",\"dtype\":\"float64\",\"order\":\"little\",\"shape\":[12]}},\"selected\":{\"id\":\"1045\"},\"selection_policy\":{\"id\":\"1046\"}},\"id\":\"1034\",\"type\":\"ColumnDataSource\"},{\"attributes\":{},\"id\":\"1046\",\"type\":\"UnionRenderers\"},{\"attributes\":{},\"id\":\"1045\",\"type\":\"Selection\"},{\"attributes\":{},\"id\":\"1020\",\"type\":\"PanTool\"},{\"attributes\":{\"bottom_units\":\"screen\",\"fill_alpha\":0.5,\"fill_color\":\"lightgrey\",\"left_units\":\"screen\",\"level\":\"overlay\",\"line_alpha\":1.0,\"line_color\":\"black\",\"line_dash\":[4,4],\"line_width\":2,\"right_units\":\"screen\",\"top_units\":\"screen\"},\"id\":\"1026\",\"type\":\"BoxAnnotation\"},{\"attributes\":{},\"id\":\"1021\",\"type\":\"WheelZoomTool\"},{\"attributes\":{\"overlay\":{\"id\":\"1026\"}},\"id\":\"1022\",\"type\":\"BoxZoomTool\"},{\"attributes\":{},\"id\":\"1023\",\"type\":\"SaveTool\"},{\"attributes\":{\"fill_color\":{\"value\":\"#1f77b4\"},\"line_color\":{\"value\":\"#1f77b4\"},\"x\":{\"field\":\"x\"},\"y\":{\"field\":\"y\"}},\"id\":\"1035\",\"type\":\"Circle\"},{\"attributes\":{},\"id\":\"1040\",\"type\":\"BasicTickFormatter\"},{\"attributes\":{},\"id\":\"1042\",\"type\":\"BasicTickFormatter\"},{\"attributes\":{\"data_source\":{\"id\":\"1034\"},\"glyph\":{\"id\":\"1035\"},\"hover_glyph\":null,\"muted_glyph\":null,\"nonselection_glyph\":{\"id\":\"1036\"},\"selection_glyph\":null,\"view\":{\"id\":\"1038\"}},\"id\":\"1037\",\"type\":\"GlyphRenderer\"},{\"attributes\":{},\"id\":\"1024\",\"type\":\"ResetTool\"},{\"attributes\":{},\"id\":\"1004\",\"type\":\"DataRange1d\"},{\"attributes\":{},\"id\":\"1025\",\"type\":\"HelpTool\"},{\"attributes\":{},\"id\":\"1006\",\"type\":\"DataRange1d\"},{\"attributes\":{},\"id\":\"1008\",\"type\":\"LinearScale\"},{\"attributes\":{\"active_drag\":\"auto\",\"active_inspect\":\"auto\",\"active_multi\":null,\"active_scroll\":\"auto\",\"active_tap\":\"auto\",\"tools\":[{\"id\":\"1020\"},{\"id\":\"1021\"},{\"id\":\"1022\"},{\"id\":\"1023\"},{\"id\":\"1024\"},{\"id\":\"1025\"}]},\"id\":\"1027\",\"type\":\"Toolbar\"},{\"attributes\":{},\"id\":\"1010\",\"type\":\"LinearScale\"},{\"attributes\":{\"formatter\":{\"id\":\"1042\"},\"ticker\":{\"id\":\"1013\"}},\"id\":\"1012\",\"type\":\"LinearAxis\"},{\"attributes\":{},\"id\":\"1013\",\"type\":\"BasicTicker\"},{\"attributes\":{\"axis\":{\"id\":\"1012\"},\"ticker\":null},\"id\":\"1015\",\"type\":\"Grid\"},{\"attributes\":{\"source\":{\"id\":\"1034\"}},\"id\":\"1038\",\"type\":\"CDSView\"},{\"attributes\":{\"formatter\":{\"id\":\"1040\"},\"ticker\":{\"id\":\"1017\"}},\"id\":\"1016\",\"type\":\"LinearAxis\"},{\"attributes\":{\"fill_alpha\":{\"value\":0.1},\"fill_color\":{\"value\":\"#1f77b4\"},\"line_alpha\":{\"value\":0.1},\"line_color\":{\"value\":\"#1f77b4\"},\"x\":{\"field\":\"x\"},\"y\":{\"field\":\"y\"}},\"id\":\"1036\",\"type\":\"Circle\"},{\"attributes\":{},\"id\":\"1017\",\"type\":\"BasicTicker\"},{\"attributes\":{\"axis\":{\"id\":\"1016\"},\"dimension\":1,\"ticker\":null},\"id\":\"1019\",\"type\":\"Grid\"}],\"root_ids\":[\"1002\"]},\"title\":\"Bokeh Application\",\"version\":\"2.1.1\"}};\n",
       "  var render_items = [{\"docid\":\"3023646b-676b-4e88-81bd-bd9b100f0e1a\",\"root_ids\":[\"1002\"],\"roots\":{\"1002\":\"8258fec8-029a-4512-ad9c-672027b3e8cb\"}}];\n",
       "  root.Bokeh.embed.embed_items_notebook(docs_json, render_items);\n",
       "\n",
       "  }\n",
       "  if (root.Bokeh !== undefined) {\n",
       "    embed_document(root);\n",
       "  } else {\n",
       "    var attempts = 0;\n",
       "    var timer = setInterval(function(root) {\n",
       "      if (root.Bokeh !== undefined) {\n",
       "        clearInterval(timer);\n",
       "        embed_document(root);\n",
       "      } else {\n",
       "        attempts++;\n",
       "        if (attempts > 100) {\n",
       "          clearInterval(timer);\n",
       "          console.log(\"Bokeh: ERROR: Unable to run BokehJS code because BokehJS library is missing\");\n",
       "        }\n",
       "      }\n",
       "    }, 10, root)\n",
       "  }\n",
       "})(window);"
      ],
      "application/vnd.bokehjs_exec.v0+json": ""
     },
     "metadata": {
      "application/vnd.bokehjs_exec.v0+json": {
       "id": "1002"
      }
     },
     "output_type": "display_data"
    }
   ],
   "source": [
    "def make_scatter(df, title = None):\n",
    "    p  = figure(title = title)\n",
    "    p.circle(x = df['BAC'], y = df['risk'])\n",
    "    return p\n",
    "show(make_scatter(DF))"
   ]
  },
  {
   "cell_type": "markdown",
   "metadata": {},
   "source": [
    "Let's fit a line to these points by finding the parameters. "
   ]
  },
  {
   "cell_type": "code",
   "execution_count": 7,
   "metadata": {},
   "outputs": [
    {
     "name": "stdout",
     "output_type": "stream",
     "text": [
      "ratio is 57700487606.35652\n",
      "initial value is 32241472356.689198\n"
     ]
    }
   ],
   "source": [
    "popt, pcov = optim.curve_fit(f = exp_func, xdata =DF['BAC'], ydata = DF['risk'])\n",
    "print('ratio is {r}'.format(r = popt[1]))\n",
    "print('initial value is {i}'.format(i = popt[0]))"
   ]
  },
  {
   "cell_type": "code",
   "execution_count": 8,
   "metadata": {},
   "outputs": [
    {
     "data": {
      "text/html": [
       "\n",
       "\n",
       "\n",
       "\n",
       "\n",
       "\n",
       "  <div class=\"bk-root\" id=\"30e52b30-36df-4abe-b2f6-4be84a927e7b\" data-root-id=\"1095\"></div>\n"
      ]
     },
     "metadata": {},
     "output_type": "display_data"
    },
    {
     "data": {
      "application/javascript": [
       "(function(root) {\n",
       "  function embed_document(root) {\n",
       "    \n",
       "  var docs_json = {\"40953042-de55-40b2-97b8-fb1dd97fd9ee\":{\"roots\":{\"references\":[{\"attributes\":{\"below\":[{\"id\":\"1105\"}],\"center\":[{\"id\":\"1108\"},{\"id\":\"1112\"}],\"left\":[{\"id\":\"1109\"}],\"renderers\":[{\"id\":\"1130\"},{\"id\":\"1135\"}],\"title\":null,\"toolbar\":{\"id\":\"1120\"},\"x_range\":{\"id\":\"1097\"},\"x_scale\":{\"id\":\"1101\"},\"y_range\":{\"id\":\"1099\"},\"y_scale\":{\"id\":\"1103\"}},\"id\":\"1095\",\"subtype\":\"Figure\",\"type\":\"Plot\"},{\"attributes\":{},\"id\":\"1099\",\"type\":\"DataRange1d\"},{\"attributes\":{\"bottom_units\":\"screen\",\"fill_alpha\":0.5,\"fill_color\":\"lightgrey\",\"left_units\":\"screen\",\"level\":\"overlay\",\"line_alpha\":1.0,\"line_color\":\"black\",\"line_dash\":[4,4],\"line_width\":2,\"right_units\":\"screen\",\"top_units\":\"screen\"},\"id\":\"1119\",\"type\":\"BoxAnnotation\"},{\"attributes\":{\"axis\":{\"id\":\"1109\"},\"dimension\":1,\"ticker\":null},\"id\":\"1112\",\"type\":\"Grid\"},{\"attributes\":{\"fill_color\":{\"value\":\"#1f77b4\"},\"line_color\":{\"value\":\"#1f77b4\"},\"x\":{\"field\":\"x\"},\"y\":{\"field\":\"y\"}},\"id\":\"1128\",\"type\":\"Circle\"},{\"attributes\":{\"data_source\":{\"id\":\"1127\"},\"glyph\":{\"id\":\"1128\"},\"hover_glyph\":null,\"muted_glyph\":null,\"nonselection_glyph\":{\"id\":\"1129\"},\"selection_glyph\":null,\"view\":{\"id\":\"1131\"}},\"id\":\"1130\",\"type\":\"GlyphRenderer\"},{\"attributes\":{\"source\":{\"id\":\"1127\"}},\"id\":\"1131\",\"type\":\"CDSView\"},{\"attributes\":{},\"id\":\"1113\",\"type\":\"PanTool\"},{\"attributes\":{\"data\":{\"x\":{\"__ndarray__\":\"AAAAAAAAAAB7FK5H4XqEP7gehetRuJ4/mpmZmZmZqT/sUbgeheuxPwrXo3A9Crc/KVyPwvUovD+kcD0K16PAPzMzMzMzM8M/w/UoXI/CxT9SuB6F61HIP+F6FK5H4co/\",\"dtype\":\"float64\",\"order\":\"little\",\"shape\":[12]},\"y\":{\"__ndarray__\":\"AAAAAAAA8D97FK5H4XrwP/YoXI/C9fA/FK5H4XoU9j+4HoXrUbgAQFK4HoXrUQxApHA9CtejGUAzMzMzMzMpQJqZmZmZGTZAZmZmZmaGQ0AUrkfhelRQQFK4HoXr8VhA\",\"dtype\":\"float64\",\"order\":\"little\",\"shape\":[12]}},\"selected\":{\"id\":\"1151\"},\"selection_policy\":{\"id\":\"1152\"}},\"id\":\"1127\",\"type\":\"ColumnDataSource\"},{\"attributes\":{\"formatter\":{\"id\":\"1148\"},\"ticker\":{\"id\":\"1106\"}},\"id\":\"1105\",\"type\":\"LinearAxis\"},{\"attributes\":{\"line_alpha\":0.1,\"line_color\":\"#1f77b4\",\"x\":{\"field\":\"x\"},\"y\":{\"field\":\"y\"}},\"id\":\"1134\",\"type\":\"Line\"},{\"attributes\":{},\"id\":\"1146\",\"type\":\"BasicTickFormatter\"},{\"attributes\":{\"overlay\":{\"id\":\"1119\"}},\"id\":\"1115\",\"type\":\"BoxZoomTool\"},{\"attributes\":{\"data\":{\"x\":{\"__ndarray__\":\"AAAAAAAAAABixQ31Iql9P2LFDfUiqY0/ClTKN9o+lj9ixQ31IqmdP12bKNm1iaI/ClTKN9o+pj+2DGyW/vOpP2LFDfUiqa0/B7/XqSOvsD9dmyjZtYmyP7N3eQhIZLQ/ClTKN9o+tj9gMBtnbBm4P7YMbJb+87k/DOm8xZDOuz9ixQ31Iqm9P7ihXiS1g78/B7/XqSOvwD8yLYDBbJzBP12bKNm1icI/iAnR8P52wz+zd3kISGTEP97lISCRUcU/ClTKN9o+xj81wnJPIyzHP2AwG2dsGcg/i57DfrUGyT+2DGyW/vPJP+F6FK5H4co/\",\"dtype\":\"float64\",\"order\":\"little\",\"shape\":[30]},\"y\":[0.5587729617927414,0.6685919842641123,0.7999944019983355,0.9572221299258931,1.145350772119243,1.370453471751334,1.6397969634753513,1.9620761571618515,2.3476948257935333,2.8091014586459147,3.3611911217205956,4.021786298234727,4.8122122315938896,5.7579853439916135,6.8896369540711,8.243698884790222,9.863882778748524,11.80249119147295,14.122106015382924,16.89760873990745,20.21859776551573,24.192280807062687,28.946935758620587,34.63605174296273,41.44328402649398,49.58838275351701,59.3342868904236,70.99561238555216,84.94880855832906,101.64431058486315]},\"selected\":{\"id\":\"1153\"},\"selection_policy\":{\"id\":\"1154\"}},\"id\":\"1132\",\"type\":\"ColumnDataSource\"},{\"attributes\":{},\"id\":\"1117\",\"type\":\"ResetTool\"},{\"attributes\":{\"line_color\":\"#1f77b4\",\"x\":{\"field\":\"x\"},\"y\":{\"field\":\"y\"}},\"id\":\"1133\",\"type\":\"Line\"},{\"attributes\":{},\"id\":\"1114\",\"type\":\"WheelZoomTool\"},{\"attributes\":{},\"id\":\"1118\",\"type\":\"HelpTool\"},{\"attributes\":{\"source\":{\"id\":\"1132\"}},\"id\":\"1136\",\"type\":\"CDSView\"},{\"attributes\":{\"data_source\":{\"id\":\"1132\"},\"glyph\":{\"id\":\"1133\"},\"hover_glyph\":null,\"muted_glyph\":null,\"nonselection_glyph\":{\"id\":\"1134\"},\"selection_glyph\":null,\"view\":{\"id\":\"1136\"}},\"id\":\"1135\",\"type\":\"GlyphRenderer\"},{\"attributes\":{\"fill_alpha\":{\"value\":0.1},\"fill_color\":{\"value\":\"#1f77b4\"},\"line_alpha\":{\"value\":0.1},\"line_color\":{\"value\":\"#1f77b4\"},\"x\":{\"field\":\"x\"},\"y\":{\"field\":\"y\"}},\"id\":\"1129\",\"type\":\"Circle\"},{\"attributes\":{},\"id\":\"1116\",\"type\":\"SaveTool\"},{\"attributes\":{},\"id\":\"1148\",\"type\":\"BasicTickFormatter\"},{\"attributes\":{},\"id\":\"1097\",\"type\":\"DataRange1d\"},{\"attributes\":{},\"id\":\"1151\",\"type\":\"Selection\"},{\"attributes\":{\"active_drag\":\"auto\",\"active_inspect\":\"auto\",\"active_multi\":null,\"active_scroll\":\"auto\",\"active_tap\":\"auto\",\"tools\":[{\"id\":\"1113\"},{\"id\":\"1114\"},{\"id\":\"1115\"},{\"id\":\"1116\"},{\"id\":\"1117\"},{\"id\":\"1118\"}]},\"id\":\"1120\",\"type\":\"Toolbar\"},{\"attributes\":{\"formatter\":{\"id\":\"1146\"},\"ticker\":{\"id\":\"1110\"}},\"id\":\"1109\",\"type\":\"LinearAxis\"},{\"attributes\":{},\"id\":\"1152\",\"type\":\"UnionRenderers\"},{\"attributes\":{},\"id\":\"1110\",\"type\":\"BasicTicker\"},{\"attributes\":{},\"id\":\"1153\",\"type\":\"Selection\"},{\"attributes\":{\"axis\":{\"id\":\"1105\"},\"ticker\":null},\"id\":\"1108\",\"type\":\"Grid\"},{\"attributes\":{},\"id\":\"1154\",\"type\":\"UnionRenderers\"},{\"attributes\":{},\"id\":\"1101\",\"type\":\"LinearScale\"},{\"attributes\":{},\"id\":\"1103\",\"type\":\"LinearScale\"},{\"attributes\":{},\"id\":\"1106\",\"type\":\"BasicTicker\"}],\"root_ids\":[\"1095\"]},\"title\":\"Bokeh Application\",\"version\":\"2.1.1\"}};\n",
       "  var render_items = [{\"docid\":\"40953042-de55-40b2-97b8-fb1dd97fd9ee\",\"root_ids\":[\"1095\"],\"roots\":{\"1095\":\"30e52b30-36df-4abe-b2f6-4be84a927e7b\"}}];\n",
       "  root.Bokeh.embed.embed_items_notebook(docs_json, render_items);\n",
       "\n",
       "  }\n",
       "  if (root.Bokeh !== undefined) {\n",
       "    embed_document(root);\n",
       "  } else {\n",
       "    var attempts = 0;\n",
       "    var timer = setInterval(function(root) {\n",
       "      if (root.Bokeh !== undefined) {\n",
       "        clearInterval(timer);\n",
       "        embed_document(root);\n",
       "      } else {\n",
       "        attempts++;\n",
       "        if (attempts > 100) {\n",
       "          clearInterval(timer);\n",
       "          console.log(\"Bokeh: ERROR: Unable to run BokehJS code because BokehJS library is missing\");\n",
       "        }\n",
       "      }\n",
       "    }, 10, root)\n",
       "  }\n",
       "})(window);"
      ],
      "application/vnd.bokehjs_exec.v0+json": ""
     },
     "metadata": {
      "application/vnd.bokehjs_exec.v0+json": {
       "id": "1095"
      }
     },
     "output_type": "display_data"
    }
   ],
   "source": [
    "# lets' generate a 30 x points\n",
    "new_x = np.linspace(min(DF['BAC']), max(DF['BAC']), 30)\n",
    "y_hat = [exp_func(initial = popt[0], ratio = popt[1], x = x) for x in new_x]\n",
    "p = make_scatter(DF, title = None)\n",
    "p.line(x = new_x, y = y_hat)\n",
    "show(p)"
   ]
  },
  {
   "cell_type": "markdown",
   "metadata": {},
   "source": [
    "## Determine a P value\n",
    "How good is our fit? To answer this question, we need to state null hypothesis and determine a p value. For an exponential function, the null hypothesis is that the ratio is 1. If the data is just random, on average, the value of each x will sometimes be greater than the previous, and sometimes be smaller. if the ratio is under less than or greater than 1, then we can reject the null hypothesis. "
   ]
  },
  {
   "cell_type": "code",
   "execution_count": 9,
   "metadata": {},
   "outputs": [
    {
     "name": "stderr",
     "output_type": "stream",
     "text": [
      "/home/henry/Envs2/xianfei_data/lib/python3.6/site-packages/ipykernel_launcher.py:2: RuntimeWarning: invalid value encountered in power\n",
      "  \n"
     ]
    },
    {
     "name": "stdout",
     "output_type": "stream",
     "text": [
      "23917899040.824837 6404064072673.453\n"
     ]
    },
    {
     "data": {
      "text/plain": [
       "False"
      ]
     },
     "execution_count": 9,
     "metadata": {},
     "output_type": "execute_result"
    }
   ],
   "source": [
    "def get_ratios(x, y, num_iter = 100):\n",
    "    zip_obj = list(zip(x, y))\n",
    "    ratios = []\n",
    "    for i in range(num_iter):\n",
    "        new_ = resample(zip_obj)\n",
    "        new_ = sorted(new_, key = lambda x: x[0])\n",
    "        x_ = [x[0] for x in new_]\n",
    "        y_ = [x[1] for x in new_]\n",
    "        popt, pcov = optim.curve_fit(f = exp_func, xdata =np.array(x_), ydata = np.array(y_))\n",
    "        ratios.append(popt[1])\n",
    "    return ratios\n",
    "\n",
    "ratios = get_ratios(x = DF['BAC'].tolist(), y = DF['risk'].tolist())\n",
    "lower = np.percentile(ratios, 2.5)\n",
    "upper = np.percentile(ratios, 97.5)\n",
    "print(lower, upper)\n",
    "lies_inside =  lower < 1 < upper\n",
    "lies_inside\n",
    "# reject null hypothesis\n"
   ]
  },
  {
   "cell_type": "markdown",
   "metadata": {},
   "source": [
    "In fact, the fit is so good, we can use a 99% confidence interval:"
   ]
  },
  {
   "cell_type": "code",
   "execution_count": 10,
   "metadata": {},
   "outputs": [
    {
     "data": {
      "text/plain": [
       "False"
      ]
     },
     "execution_count": 10,
     "metadata": {},
     "output_type": "execute_result"
    }
   ],
   "source": [
    "np.percentile(ratios, .5) < 1 < np.percentile(ratios, 99.5)\n"
   ]
  },
  {
   "cell_type": "markdown",
   "metadata": {},
   "source": [
    "Our p value < .01. We reject the null hypothesis that the ratio is 1\n",
    "\n",
    "### The p-value for random data\n",
    "Below is an example of a bad fit. The function *test_random* generates 30 random values for x and y. These random values have no relationship to each other, so we expect the ratio to lie within the confidence interval. "
   ]
  },
  {
   "cell_type": "code",
   "execution_count": 24,
   "metadata": {},
   "outputs": [
    {
     "name": "stdout",
     "output_type": "stream",
     "text": [
      "ratio is 0.9966069598426586\n",
      "0.986451258234917 1.0070336102893398\n",
      "True\n"
     ]
    },
    {
     "data": {
      "text/html": [
       "\n",
       "\n",
       "\n",
       "\n",
       "\n",
       "\n",
       "  <div class=\"bk-root\" id=\"7a46f975-81bd-42ff-9d9f-426a69fb2f03\" data-root-id=\"3703\"></div>\n"
      ]
     },
     "metadata": {},
     "output_type": "display_data"
    },
    {
     "data": {
      "application/javascript": [
       "(function(root) {\n",
       "  function embed_document(root) {\n",
       "    \n",
       "  var docs_json = {\"f37fdcbb-380f-4e06-bba2-3cfbb1f467fc\":{\"roots\":{\"references\":[{\"attributes\":{\"below\":[{\"id\":\"3712\"}],\"center\":[{\"id\":\"3715\"},{\"id\":\"3719\"},{\"id\":\"3755\"}],\"left\":[{\"id\":\"3716\"}],\"renderers\":[{\"id\":\"3737\"},{\"id\":\"3742\"},{\"id\":\"3760\"}],\"title\":{\"id\":\"3744\"},\"toolbar\":{\"id\":\"3727\"},\"x_range\":{\"id\":\"3704\"},\"x_scale\":{\"id\":\"3708\"},\"y_range\":{\"id\":\"3706\"},\"y_scale\":{\"id\":\"3710\"}},\"id\":\"3703\",\"subtype\":\"Figure\",\"type\":\"Plot\"},{\"attributes\":{\"formatter\":{\"id\":\"3748\"},\"ticker\":{\"id\":\"3713\"}},\"id\":\"3712\",\"type\":\"LinearAxis\"},{\"attributes\":{\"fill_alpha\":{\"value\":0.1},\"fill_color\":{\"value\":\"#1f77b4\"},\"line_alpha\":{\"value\":0.1},\"line_color\":{\"value\":\"#1f77b4\"},\"x\":{\"field\":\"x\"},\"y\":{\"field\":\"y\"}},\"id\":\"3736\",\"type\":\"Circle\"},{\"attributes\":{\"line_alpha\":0.1,\"line_color\":\"#1f77b4\",\"x\":{\"field\":\"x\"},\"y\":{\"field\":\"y\"}},\"id\":\"3741\",\"type\":\"Line\"},{\"attributes\":{\"data\":{\"x\":[3,4,5,9,11,12,18,19,22,23,26,29,32,38,42,47,51,53,56,58,67,72,72,74,75,75,76,78,84,91],\"y\":[55.565778263046234,55.37724134602579,55.18934414233593,54.44410915974481,54.075273862192006,53.89179428645835,52.80391677511612,52.62475096503324,52.09089279176967,51.91414630069543,51.38749694269576,50.86619024302808,50.35017200244649,49.33378684513438,48.66762086052205,47.8475488896034,47.20145193342634,46.88168250680741,46.406085588558106,46.091704425003826,44.703137989457396,43.949869392615014,43.949869392615014,43.6521280317036,43.504014608338615,43.504014608338615,43.356403739766954,43.06268285203498,42.193405351201,41.20140140762744]},\"selected\":{\"id\":\"3753\"},\"selection_policy\":{\"id\":\"3754\"}},\"id\":\"3739\",\"type\":\"ColumnDataSource\"},{\"attributes\":{\"source\":{\"id\":\"3739\"}},\"id\":\"3743\",\"type\":\"CDSView\"},{\"attributes\":{},\"id\":\"3720\",\"type\":\"PanTool\"},{\"attributes\":{},\"id\":\"3746\",\"type\":\"BasicTickFormatter\"},{\"attributes\":{},\"id\":\"3713\",\"type\":\"BasicTicker\"},{\"attributes\":{\"axis\":{\"id\":\"3716\"},\"dimension\":1,\"ticker\":null},\"id\":\"3719\",\"type\":\"Grid\"},{\"attributes\":{},\"id\":\"3721\",\"type\":\"WheelZoomTool\"},{\"attributes\":{},\"id\":\"3748\",\"type\":\"BasicTickFormatter\"},{\"attributes\":{\"overlay\":{\"id\":\"3726\"}},\"id\":\"3722\",\"type\":\"BoxZoomTool\"},{\"attributes\":{},\"id\":\"3717\",\"type\":\"BasicTicker\"},{\"attributes\":{},\"id\":\"3751\",\"type\":\"Selection\"},{\"attributes\":{},\"id\":\"3723\",\"type\":\"SaveTool\"},{\"attributes\":{},\"id\":\"3752\",\"type\":\"UnionRenderers\"},{\"attributes\":{},\"id\":\"3724\",\"type\":\"ResetTool\"},{\"attributes\":{\"fill_color\":{\"value\":\"#1f77b4\"},\"line_color\":{\"value\":\"#1f77b4\"},\"x\":{\"field\":\"x\"},\"y\":{\"field\":\"y\"}},\"id\":\"3735\",\"type\":\"Circle\"},{\"attributes\":{},\"id\":\"3753\",\"type\":\"Selection\"},{\"attributes\":{},\"id\":\"3725\",\"type\":\"HelpTool\"},{\"attributes\":{\"axis\":{\"id\":\"3712\"},\"ticker\":null},\"id\":\"3715\",\"type\":\"Grid\"},{\"attributes\":{},\"id\":\"3754\",\"type\":\"UnionRenderers\"},{\"attributes\":{\"active_drag\":\"auto\",\"active_inspect\":\"auto\",\"active_multi\":null,\"active_scroll\":\"auto\",\"active_tap\":\"auto\",\"tools\":[{\"id\":\"3720\"},{\"id\":\"3721\"},{\"id\":\"3722\"},{\"id\":\"3723\"},{\"id\":\"3724\"},{\"id\":\"3725\"}]},\"id\":\"3727\",\"type\":\"Toolbar\"},{\"attributes\":{\"items\":[{\"id\":\"3756\"},{\"id\":\"3775\"}]},\"id\":\"3755\",\"type\":\"Legend\"},{\"attributes\":{\"formatter\":{\"id\":\"3746\"},\"ticker\":{\"id\":\"3717\"}},\"id\":\"3716\",\"type\":\"LinearAxis\"},{\"attributes\":{\"label\":{\"value\":\"fitted\"},\"renderers\":[{\"id\":\"3742\"}]},\"id\":\"3756\",\"type\":\"LegendItem\"},{\"attributes\":{\"data\":{\"x\":[3,4,5,9,11,12,18,19,22,23,26,29,32,38,42,47,51,53,56,58,67,72,72,74,75,75,76,78,84,91],\"y\":[98,54,95,76,90,0,48,9,29,46,11,86,10,66,93,14,7,59,39,31,17,28,23,87,72,80,57,26,92,14]},\"selected\":{\"id\":\"3751\"},\"selection_policy\":{\"id\":\"3752\"}},\"id\":\"3734\",\"type\":\"ColumnDataSource\"},{\"attributes\":{},\"id\":\"3708\",\"type\":\"LinearScale\"},{\"attributes\":{\"data\":{\"x\":[3,4,5,9,11,12,18,19,22,23,26,29,32,38,42,47,51,53,56,58,67,72,72,74,75,75,76,78,84,91],\"y\":[48.56666666666667,48.56666666666667,48.56666666666667,48.56666666666667,48.56666666666667,48.56666666666667,48.56666666666667,48.56666666666667,48.56666666666667,48.56666666666667,48.56666666666667,48.56666666666667,48.56666666666667,48.56666666666667,48.56666666666667,48.56666666666667,48.56666666666667,48.56666666666667,48.56666666666667,48.56666666666667,48.56666666666667,48.56666666666667,48.56666666666667,48.56666666666667,48.56666666666667,48.56666666666667,48.56666666666667,48.56666666666667,48.56666666666667,48.56666666666667]},\"selected\":{\"id\":\"3773\"},\"selection_policy\":{\"id\":\"3774\"}},\"id\":\"3757\",\"type\":\"ColumnDataSource\"},{\"attributes\":{},\"id\":\"3706\",\"type\":\"DataRange1d\"},{\"attributes\":{},\"id\":\"3704\",\"type\":\"DataRange1d\"},{\"attributes\":{\"data_source\":{\"id\":\"3757\"},\"glyph\":{\"id\":\"3758\"},\"hover_glyph\":null,\"muted_glyph\":null,\"nonselection_glyph\":{\"id\":\"3759\"},\"selection_glyph\":null,\"view\":{\"id\":\"3761\"}},\"id\":\"3760\",\"type\":\"GlyphRenderer\"},{\"attributes\":{},\"id\":\"3710\",\"type\":\"LinearScale\"},{\"attributes\":{\"bottom_units\":\"screen\",\"fill_alpha\":0.5,\"fill_color\":\"lightgrey\",\"left_units\":\"screen\",\"level\":\"overlay\",\"line_alpha\":1.0,\"line_color\":\"black\",\"line_dash\":[4,4],\"line_width\":2,\"right_units\":\"screen\",\"top_units\":\"screen\"},\"id\":\"3726\",\"type\":\"BoxAnnotation\"},{\"attributes\":{},\"id\":\"3773\",\"type\":\"Selection\"},{\"attributes\":{\"line_color\":\"green\",\"x\":{\"field\":\"x\"},\"y\":{\"field\":\"y\"}},\"id\":\"3758\",\"type\":\"Line\"},{\"attributes\":{\"text\":\"\"},\"id\":\"3744\",\"type\":\"Title\"},{\"attributes\":{\"data_source\":{\"id\":\"3734\"},\"glyph\":{\"id\":\"3735\"},\"hover_glyph\":null,\"muted_glyph\":null,\"nonselection_glyph\":{\"id\":\"3736\"},\"selection_glyph\":null,\"view\":{\"id\":\"3738\"}},\"id\":\"3737\",\"type\":\"GlyphRenderer\"},{\"attributes\":{\"source\":{\"id\":\"3734\"}},\"id\":\"3738\",\"type\":\"CDSView\"},{\"attributes\":{\"line_color\":\"#1f77b4\",\"x\":{\"field\":\"x\"},\"y\":{\"field\":\"y\"}},\"id\":\"3740\",\"type\":\"Line\"},{\"attributes\":{\"line_alpha\":0.1,\"line_color\":\"green\",\"x\":{\"field\":\"x\"},\"y\":{\"field\":\"y\"}},\"id\":\"3759\",\"type\":\"Line\"},{\"attributes\":{\"source\":{\"id\":\"3757\"}},\"id\":\"3761\",\"type\":\"CDSView\"},{\"attributes\":{\"data_source\":{\"id\":\"3739\"},\"glyph\":{\"id\":\"3740\"},\"hover_glyph\":null,\"muted_glyph\":null,\"nonselection_glyph\":{\"id\":\"3741\"},\"selection_glyph\":null,\"view\":{\"id\":\"3743\"}},\"id\":\"3742\",\"type\":\"GlyphRenderer\"},{\"attributes\":{},\"id\":\"3774\",\"type\":\"UnionRenderers\"},{\"attributes\":{\"label\":{\"value\":\"Null\"},\"renderers\":[{\"id\":\"3760\"}]},\"id\":\"3775\",\"type\":\"LegendItem\"}],\"root_ids\":[\"3703\"]},\"title\":\"Bokeh Application\",\"version\":\"2.1.1\"}};\n",
       "  var render_items = [{\"docid\":\"f37fdcbb-380f-4e06-bba2-3cfbb1f467fc\",\"root_ids\":[\"3703\"],\"roots\":{\"3703\":\"7a46f975-81bd-42ff-9d9f-426a69fb2f03\"}}];\n",
       "  root.Bokeh.embed.embed_items_notebook(docs_json, render_items);\n",
       "\n",
       "  }\n",
       "  if (root.Bokeh !== undefined) {\n",
       "    embed_document(root);\n",
       "  } else {\n",
       "    var attempts = 0;\n",
       "    var timer = setInterval(function(root) {\n",
       "      if (root.Bokeh !== undefined) {\n",
       "        clearInterval(timer);\n",
       "        embed_document(root);\n",
       "      } else {\n",
       "        attempts++;\n",
       "        if (attempts > 100) {\n",
       "          clearInterval(timer);\n",
       "          console.log(\"Bokeh: ERROR: Unable to run BokehJS code because BokehJS library is missing\");\n",
       "        }\n",
       "      }\n",
       "    }, 10, root)\n",
       "  }\n",
       "})(window);"
      ],
      "application/vnd.bokehjs_exec.v0+json": ""
     },
     "metadata": {
      "application/vnd.bokehjs_exec.v0+json": {
       "id": "3703"
      }
     },
     "output_type": "display_data"
    }
   ],
   "source": [
    "def test_random():\n",
    "    # randomly generate some numbers\n",
    "    x = [random.randrange(100) for x in range(30)]\n",
    "    y = [random.randrange(100) for x in range(30)]\n",
    "    # sort them for the graph\n",
    "    both = list(zip(x,y))\n",
    "    both = sorted(both, key = lambda x: x[0])\n",
    "    x = [x[0] for x in both]\n",
    "    y = [x[1] for x in both]\n",
    "    # graph them\n",
    "    p = figure()\n",
    "    p.circle(x = x, y = y)\n",
    "    popt, pcov = optim.curve_fit(f = exp_func, xdata =np.array(x), ydata = np.array(y))\n",
    "    y_hat = [exp_func(x = x, ratio = popt[1], initial = popt[0])  for x in x]\n",
    "    p.line(x = x, y = y_hat, legend_label = 'fitted')\n",
    "    # the null hypothesis is simply a straight line through the mean of Y\n",
    "    mean  = np.mean(y)\n",
    "    p.line(x = x, y = [mean for x in x], color = 'green', legend_label = 'Null')\n",
    "    print('ratio is {r}'.format(r = popt[1]))\n",
    "    resamples =  get_ratios(x, y)\n",
    "    lower = np.percentile(resamples, 2.5)\n",
    "    upper = np.percentile(resamples, 97.5)\n",
    "    print(lower, upper)\n",
    "    lies_inside =  lower < 1 < upper\n",
    "    print(lies_inside)\n",
    "    # do not reject null hypothesis\n",
    "\n",
    "    show(p)\n",
    "test_random()\n"
   ]
  },
  {
   "cell_type": "markdown",
   "metadata": {},
   "source": [
    "After resampling, you will find that the ratio often lies within the confidence interval. (Run the function several times.)\n",
    "\n",
    "Note that the \"Null\" or green line is just about as good as fitting a line with an exponential function.\n",
    "\n",
    "## RT value for Covid-19\n",
    "A pandemic such as covid-19 grows exponentially. The ratio is known as the rt value. \n",
    "\n",
    "For example, imagine that one week there are 2,500 cases in one week. The next week, there are 3,500 cases. The rt is $3,500/2,500 = 1.4$ Since the rt is above 1, the number of infections increases. In fact, 1.4 is very high: in a short amount of time, the pandemic will be out of control. Here is an example of calculating the rt value for Seattle, Washington for the last 14 days. "
   ]
  },
  {
   "cell_type": "code",
   "execution_count": 12,
   "metadata": {},
   "outputs": [],
   "source": [
    "# from the previous section. Go to next block\n",
    "def make_bar(labels, nums, title = None, y_range = None, plot_width = 350, plot_height = 350):\n",
    "    p = figure(title = title, plot_width = plot_width, plot_height = plot_height,\n",
    "              y_range = y_range)\n",
    "    p.vbar(x=labels, top=nums, width=0.9)\n",
    "    p.xgrid.grid_line_color = None\n",
    "    return p\n"
   ]
  },
  {
   "cell_type": "code",
   "execution_count": 13,
   "metadata": {},
   "outputs": [
    {
     "name": "stdout",
     "output_type": "stream",
     "text": [
      "rt is 0.9861979922862778\n",
      "0.964206392311426 1.0073968645374742\n",
      "True\n"
     ]
    },
    {
     "data": {
      "text/html": [
       "\n",
       "\n",
       "\n",
       "\n",
       "\n",
       "\n",
       "  <div class=\"bk-root\" id=\"151e2fdd-f024-4b2b-a489-b39044e9f2b2\" data-root-id=\"1351\"></div>\n"
      ]
     },
     "metadata": {},
     "output_type": "display_data"
    },
    {
     "data": {
      "application/javascript": [
       "(function(root) {\n",
       "  function embed_document(root) {\n",
       "    \n",
       "  var docs_json = {\"39225d21-21e8-4bfa-a711-7556993c461c\":{\"roots\":{\"references\":[{\"attributes\":{\"below\":[{\"id\":\"1361\"}],\"center\":[{\"id\":\"1364\"},{\"id\":\"1368\"},{\"id\":\"1403\"}],\"left\":[{\"id\":\"1365\"}],\"plot_height\":350,\"plot_width\":350,\"renderers\":[{\"id\":\"1386\"},{\"id\":\"1391\"},{\"id\":\"1408\"}],\"title\":null,\"toolbar\":{\"id\":\"1376\"},\"x_range\":{\"id\":\"1353\"},\"x_scale\":{\"id\":\"1357\"},\"y_range\":{\"id\":\"1355\"},\"y_scale\":{\"id\":\"1359\"}},\"id\":\"1351\",\"subtype\":\"Figure\",\"type\":\"Plot\"},{\"attributes\":{},\"id\":\"1369\",\"type\":\"PanTool\"},{\"attributes\":{},\"id\":\"1394\",\"type\":\"BasicTickFormatter\"},{\"attributes\":{},\"id\":\"1370\",\"type\":\"WheelZoomTool\"},{\"attributes\":{},\"id\":\"1396\",\"type\":\"BasicTickFormatter\"},{\"attributes\":{\"overlay\":{\"id\":\"1375\"}},\"id\":\"1371\",\"type\":\"BoxZoomTool\"},{\"attributes\":{},\"id\":\"1399\",\"type\":\"Selection\"},{\"attributes\":{},\"id\":\"1372\",\"type\":\"SaveTool\"},{\"attributes\":{},\"id\":\"1400\",\"type\":\"UnionRenderers\"},{\"attributes\":{},\"id\":\"1373\",\"type\":\"ResetTool\"},{\"attributes\":{},\"id\":\"1401\",\"type\":\"Selection\"},{\"attributes\":{},\"id\":\"1374\",\"type\":\"HelpTool\"},{\"attributes\":{\"fill_alpha\":{\"value\":0.1},\"fill_color\":{\"value\":\"#1f77b4\"},\"line_alpha\":{\"value\":0.1},\"line_color\":{\"value\":\"#1f77b4\"},\"top\":{\"field\":\"top\"},\"width\":{\"value\":0.9},\"x\":{\"field\":\"x\"}},\"id\":\"1385\",\"type\":\"VBar\"},{\"attributes\":{},\"id\":\"1402\",\"type\":\"UnionRenderers\"},{\"attributes\":{\"active_drag\":\"auto\",\"active_inspect\":\"auto\",\"active_multi\":null,\"active_scroll\":\"auto\",\"active_tap\":\"auto\",\"tools\":[{\"id\":\"1369\"},{\"id\":\"1370\"},{\"id\":\"1371\"},{\"id\":\"1372\"},{\"id\":\"1373\"},{\"id\":\"1374\"}]},\"id\":\"1376\",\"type\":\"Toolbar\"},{\"attributes\":{\"data\":{\"x\":[0,1,2,3,4,5,6,7,8,9,10,11,12,13],\"y\":[163.93228063665035,161.66968603477522,159.43831978104822,157.23775086156726,155.0675542112876,152.92731063191536,150.81660671093488,148.73503474175314,146.68219264494675,144.65768389059548,142.6611174216883,140.69210757858593,138.75027402452645,136.8352416721589]},\"selected\":{\"id\":\"1401\"},\"selection_policy\":{\"id\":\"1402\"}},\"id\":\"1388\",\"type\":\"ColumnDataSource\"},{\"attributes\":{\"items\":[{\"id\":\"1404\"},{\"id\":\"1422\"}]},\"id\":\"1403\",\"type\":\"Legend\"},{\"attributes\":{},\"id\":\"1355\",\"type\":\"DataRange1d\"},{\"attributes\":{},\"id\":\"1353\",\"type\":\"DataRange1d\"},{\"attributes\":{\"data\":{\"top\":[160.0,158.0,202.0,111.0,124.0,145.0,167.0,192.0,134.0,200.0,129.0,148.0,81.0,149.0],\"x\":[0,1,2,3,4,5,6,7,8,9,10,11,12,13]},\"selected\":{\"id\":\"1399\"},\"selection_policy\":{\"id\":\"1400\"}},\"id\":\"1383\",\"type\":\"ColumnDataSource\"},{\"attributes\":{\"label\":{\"value\":\"fitted\"},\"renderers\":[{\"id\":\"1391\"}]},\"id\":\"1404\",\"type\":\"LegendItem\"},{\"attributes\":{},\"id\":\"1357\",\"type\":\"LinearScale\"},{\"attributes\":{},\"id\":\"1359\",\"type\":\"LinearScale\"},{\"attributes\":{\"data_source\":{\"id\":\"1405\"},\"glyph\":{\"id\":\"1406\"},\"hover_glyph\":null,\"muted_glyph\":null,\"nonselection_glyph\":{\"id\":\"1407\"},\"selection_glyph\":null,\"view\":{\"id\":\"1409\"}},\"id\":\"1408\",\"type\":\"GlyphRenderer\"},{\"attributes\":{\"bottom_units\":\"screen\",\"fill_alpha\":0.5,\"fill_color\":\"lightgrey\",\"left_units\":\"screen\",\"level\":\"overlay\",\"line_alpha\":1.0,\"line_color\":\"black\",\"line_dash\":[4,4],\"line_width\":2,\"right_units\":\"screen\",\"top_units\":\"screen\"},\"id\":\"1375\",\"type\":\"BoxAnnotation\"},{\"attributes\":{\"source\":{\"id\":\"1405\"}},\"id\":\"1409\",\"type\":\"CDSView\"},{\"attributes\":{\"formatter\":{\"id\":\"1396\"},\"ticker\":{\"id\":\"1362\"}},\"id\":\"1361\",\"type\":\"LinearAxis\"},{\"attributes\":{\"line_color\":\"green\",\"line_width\":2,\"x\":{\"field\":\"x\"},\"y\":{\"field\":\"y\"}},\"id\":\"1406\",\"type\":\"Line\"},{\"attributes\":{},\"id\":\"1362\",\"type\":\"BasicTicker\"},{\"attributes\":{\"axis\":{\"id\":\"1361\"},\"grid_line_color\":null,\"ticker\":null},\"id\":\"1364\",\"type\":\"Grid\"},{\"attributes\":{\"source\":{\"id\":\"1383\"}},\"id\":\"1387\",\"type\":\"CDSView\"},{\"attributes\":{\"formatter\":{\"id\":\"1394\"},\"ticker\":{\"id\":\"1366\"}},\"id\":\"1365\",\"type\":\"LinearAxis\"},{\"attributes\":{\"line_alpha\":0.1,\"line_color\":\"green\",\"line_width\":2,\"x\":{\"field\":\"x\"},\"y\":{\"field\":\"y\"}},\"id\":\"1407\",\"type\":\"Line\"},{\"attributes\":{\"data\":{\"x\":[0,1,2,3,4,5,6,7,8,9,10,11,12,13],\"y\":[150.0,150.0,150.0,150.0,150.0,150.0,150.0,150.0,150.0,150.0,150.0,150.0,150.0,150.0]},\"selected\":{\"id\":\"1420\"},\"selection_policy\":{\"id\":\"1421\"}},\"id\":\"1405\",\"type\":\"ColumnDataSource\"},{\"attributes\":{},\"id\":\"1420\",\"type\":\"Selection\"},{\"attributes\":{},\"id\":\"1366\",\"type\":\"BasicTicker\"},{\"attributes\":{\"line_alpha\":0.1,\"line_color\":\"red\",\"line_width\":2,\"x\":{\"field\":\"x\"},\"y\":{\"field\":\"y\"}},\"id\":\"1390\",\"type\":\"Line\"},{\"attributes\":{},\"id\":\"1421\",\"type\":\"UnionRenderers\"},{\"attributes\":{\"line_color\":\"red\",\"line_width\":2,\"x\":{\"field\":\"x\"},\"y\":{\"field\":\"y\"}},\"id\":\"1389\",\"type\":\"Line\"},{\"attributes\":{\"axis\":{\"id\":\"1365\"},\"dimension\":1,\"ticker\":null},\"id\":\"1368\",\"type\":\"Grid\"},{\"attributes\":{\"label\":{\"value\":\"null hypothesis\"},\"renderers\":[{\"id\":\"1408\"}]},\"id\":\"1422\",\"type\":\"LegendItem\"},{\"attributes\":{\"data_source\":{\"id\":\"1383\"},\"glyph\":{\"id\":\"1384\"},\"hover_glyph\":null,\"muted_glyph\":null,\"nonselection_glyph\":{\"id\":\"1385\"},\"selection_glyph\":null,\"view\":{\"id\":\"1387\"}},\"id\":\"1386\",\"type\":\"GlyphRenderer\"},{\"attributes\":{\"data_source\":{\"id\":\"1388\"},\"glyph\":{\"id\":\"1389\"},\"hover_glyph\":null,\"muted_glyph\":null,\"nonselection_glyph\":{\"id\":\"1390\"},\"selection_glyph\":null,\"view\":{\"id\":\"1392\"}},\"id\":\"1391\",\"type\":\"GlyphRenderer\"},{\"attributes\":{\"fill_color\":{\"value\":\"#1f77b4\"},\"line_color\":{\"value\":\"#1f77b4\"},\"top\":{\"field\":\"top\"},\"width\":{\"value\":0.9},\"x\":{\"field\":\"x\"}},\"id\":\"1384\",\"type\":\"VBar\"},{\"attributes\":{\"source\":{\"id\":\"1388\"}},\"id\":\"1392\",\"type\":\"CDSView\"}],\"root_ids\":[\"1351\"]},\"title\":\"Bokeh Application\",\"version\":\"2.1.1\"}};\n",
       "  var render_items = [{\"docid\":\"39225d21-21e8-4bfa-a711-7556993c461c\",\"root_ids\":[\"1351\"],\"roots\":{\"1351\":\"151e2fdd-f024-4b2b-a489-b39044e9f2b2\"}}];\n",
       "  root.Bokeh.embed.embed_items_notebook(docs_json, render_items);\n",
       "\n",
       "  }\n",
       "  if (root.Bokeh !== undefined) {\n",
       "    embed_document(root);\n",
       "  } else {\n",
       "    var attempts = 0;\n",
       "    var timer = setInterval(function(root) {\n",
       "      if (root.Bokeh !== undefined) {\n",
       "        clearInterval(timer);\n",
       "        embed_document(root);\n",
       "      } else {\n",
       "        attempts++;\n",
       "        if (attempts > 100) {\n",
       "          clearInterval(timer);\n",
       "          console.log(\"Bokeh: ERROR: Unable to run BokehJS code because BokehJS library is missing\");\n",
       "        }\n",
       "      }\n",
       "    }, 10, root)\n",
       "  }\n",
       "})(window);"
      ],
      "application/vnd.bokehjs_exec.v0+json": ""
     },
     "metadata": {
      "application/vnd.bokehjs_exec.v0+json": {
       "id": "1351"
      }
     },
     "output_type": "display_data"
    }
   ],
   "source": [
    "#number of cases per day\n",
    "seattle = [160.0, 158.0, 202.0, 111.0, 124.0, 145.0, 167.0, 192.0, 134.0, 200.0, 129.0, 148.0, 81.0, 149.0]\n",
    "#note, to get the x values, we simply assign a number, starting at 0 and increasing, for each y\n",
    "# we do this because this is a time series\n",
    "seattle_x = range(len(seattle))\n",
    "popt, pcov = optim.curve_fit(f = exp_func, xdata =np.array(seattle_x), ydata = np.array(seattle))\n",
    "print('rt is {r}'.format(r = popt[1]))\n",
    "resamples =  get_ratios(seattle_x, seattle)\n",
    "lower = np.percentile(resamples, 5)\n",
    "upper = np.percentile(resamples, 95)\n",
    "print(lower, upper)\n",
    "lies_inside =  lower < 1 < upper\n",
    "print(lies_inside)# do not reject \n",
    "# let's graph it\n",
    "p = make_bar(labels = seattle_x, nums = seattle)\n",
    "p.line(x = seattle_x, \n",
    "       y = [exp_func(x =x, initial =popt[0], ratio=popt[1]) for x in seattle_x],\n",
    "      color = 'red', line_width = 2, legend_label = 'fitted')\n",
    "p.line(x = seattle_x, y = [np.mean(seattle) for x in seattle_x], color = 'green',\n",
    "      line_width =2, legend_label = \"null hypothesis\")\n",
    "\n",
    "show(p)\n"
   ]
  },
  {
   "cell_type": "markdown",
   "metadata": {},
   "source": [
    "The rt value for Seattle is less than 1, meaning the pandemic is decreasing. However, the p value is too large, so we cannot reject the null hypothesis that the rt is different than 1. The decrease is not statistical significant. The green line, with no change, is sometimes as good a fit as the red line.\n",
    "\n",
    "\n",
    "The change may be random. This is one of the challenges of a pandemic, knowing when cases are really increasing, and when to take action, and when the change is not real.  "
   ]
  },
  {
   "cell_type": "markdown",
   "metadata": {},
   "source": [
    "## Summary\n",
    "* We fit a curve to data by minimizing SSR (sum of square residuals).\n",
    "* We resample the samples to generate many fits, and from this derive a p value.\n",
    "* The null hypothesis for an exponential fit is that the ratio is 1."
   ]
  }
 ],
 "metadata": {
  "kernelspec": {
   "display_name": "Python 3",
   "language": "python",
   "name": "python3"
  },
  "language_info": {
   "codemirror_mode": {
    "name": "ipython",
    "version": 3
   },
   "file_extension": ".py",
   "mimetype": "text/x-python",
   "name": "python",
   "nbconvert_exporter": "python",
   "pygments_lexer": "ipython3",
   "version": "3.6.9"
  }
 },
 "nbformat": 4,
 "nbformat_minor": 4
}
