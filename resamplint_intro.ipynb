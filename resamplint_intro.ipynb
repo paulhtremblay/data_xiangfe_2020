{
 "cells": [
  {
   "cell_type": "code",
   "execution_count": 46,
   "metadata": {},
   "outputs": [],
   "source": [
    "import random\n",
    "import numpy as np"
   ]
  },
  {
   "cell_type": "code",
   "execution_count": 85,
   "metadata": {},
   "outputs": [],
   "source": [
    "from bokeh.io import show\n",
    "from bokeh.plotting import figure\n",
    "from bokeh.io import output_notebook\n",
    "from bokeh.layouts import gridplot"
   ]
  },
  {
   "cell_type": "markdown",
   "metadata": {},
   "source": [
    "Often, in big data, we are asked to tell the difference between two samples. Was there really more rain in 2018 than in 2019? Was the temperature hotter in these two years? Did more people ride bikes in Boston than in Seattle? \n",
    "\n",
    "There is a mathmatical way in big data where we can answer these questions. "
   ]
  },
  {
   "cell_type": "markdown",
   "metadata": {},
   "source": [
    "Imagine a small town.There are two schools. Each school has two classrooms. In the north school, the two classrooms have students who are 12 years old. In the south class room, classroom a has students who are 12 years old, but classroom b has students who are 17 years old. \n",
    "\n",
    "Answer the following:\n",
    "Do you expect a difference in height between the students in the north school (both classrooms has students who are 12 years old)? Why? \n",
    "\n",
    "Do you expect a difference in height between the students in the two classrooms in the south school (one class has students who are 12 years old, and one has students who are 17 years old)? Why?"
   ]
  },
  {
   "cell_type": "code",
   "execution_count": 35,
   "metadata": {},
   "outputs": [],
   "source": [
    "def get_classroom_north_a():\n",
    "    return [146.1,152.7, 146.3, 142.0, 151.8,\n",
    "     151.4, 145.1, 153.5, 151.2, 143.5, 158.2,\n",
    "     150.6, 143.5, 151.6, 149.9, 154.2, 142.4,\n",
    "     154.6, 154.1, 152.8, 152.4, 155.9, 152.9,\n",
    "     149.9, 145.0]\n"
   ]
  },
  {
   "cell_type": "code",
   "execution_count": 75,
   "metadata": {},
   "outputs": [],
   "source": [
    "def get_classroom_north_b():\n",
    "    return [142.9, 150.9, 154.0, 146.4, 142.4,\n",
    "     148.7, 151.4, 154.5, 142.9, 142.5, 152.5,\n",
    "     151.4, 156.7, 153.9, 148.5, 147.6, 161.9,\n",
    "     147.6, 145.1, 143.3, 149.5, 147.3,\n",
    "     148.7, 150.4]"
   ]
  },
  {
   "cell_type": "code",
   "execution_count": 81,
   "metadata": {},
   "outputs": [],
   "source": [
    "def get_classroom_south_a():\n",
    "    return [141.8, 150.2, 147.6, 146.6, 153.8,\n",
    "     149.3, 147.6, 158.0, 146.5, 142.7, 142.1,\n",
    "     146.4, 152.3, 153.3, 154.7, 158.3, 157.6,\n",
    "     152.3, 155.8, 152.4, 146.4, 153.3, 149.5,\n",
    "     148.2, 159.3]"
   ]
  },
  {
   "cell_type": "code",
   "execution_count": 66,
   "metadata": {},
   "outputs": [],
   "source": [
    "def get_classroom_south_b():\n",
    "    return [169.6, 163.3,  177.6, 164.5,\n",
    "     169.5, 168.9, 168.4, 168.7, 163.3, 163.4,\n",
    "     165.0, 164.0, 169.9, 173.6, 161.3, 168.5,\n",
    "     160.8, 162.3, 164.6, 166.3, 163.6, 152.6,\n",
    "     172.8, 164.4]"
   ]
  },
  {
   "cell_type": "markdown",
   "metadata": {},
   "source": [
    "The above functions has the heights for the students in each classroom. Lets graph the 4 classrooms."
   ]
  },
  {
   "cell_type": "code",
   "execution_count": 126,
   "metadata": {},
   "outputs": [],
   "source": [
    "NORTH_A = get_classroom_north_a()\n",
    "NORTH_B = get_classroom_north_b()\n",
    "SOUTH_A = get_classroom_south_a()\n",
    "SOUTH_B = get_classroom_south_b()"
   ]
  },
  {
   "cell_type": "code",
   "execution_count": 140,
   "metadata": {},
   "outputs": [
    {
     "data": {
      "text/html": [
       "\n",
       "\n",
       "\n",
       "\n",
       "\n",
       "\n",
       "  <div class=\"bk-root\" id=\"b4018965-a35d-477d-a700-d4d9eb3c274e\" data-root-id=\"28330\"></div>\n"
      ]
     },
     "metadata": {},
     "output_type": "display_data"
    },
    {
     "data": {
      "application/javascript": [
       "(function(root) {\n",
       "  function embed_document(root) {\n",
       "    \n",
       "  var docs_json = {\"43fb0c38-1e33-4987-ab4f-98eda4784db0\":{\"roots\":{\"references\":[{\"attributes\":{\"children\":[{\"id\":\"28329\"},{\"id\":\"28327\"}]},\"id\":\"28330\",\"type\":\"Column\"},{\"attributes\":{},\"id\":\"28161\",\"type\":\"SaveTool\"},{\"attributes\":{\"data_source\":{\"id\":\"28286\"},\"glyph\":{\"id\":\"28287\"},\"hover_glyph\":null,\"muted_glyph\":null,\"nonselection_glyph\":{\"id\":\"28288\"},\"selection_glyph\":null,\"view\":{\"id\":\"28290\"}},\"id\":\"28289\",\"type\":\"GlyphRenderer\"},{\"attributes\":{},\"id\":\"28162\",\"type\":\"ResetTool\"},{\"attributes\":{\"source\":{\"id\":\"28286\"}},\"id\":\"28290\",\"type\":\"CDSView\"},{\"attributes\":{},\"id\":\"28163\",\"type\":\"HelpTool\"},{\"attributes\":{},\"id\":\"28272\",\"type\":\"PanTool\"},{\"attributes\":{},\"id\":\"28231\",\"type\":\"BasicTicker\"},{\"attributes\":{\"source\":{\"id\":\"28210\"}},\"id\":\"28214\",\"type\":\"CDSView\"},{\"attributes\":{},\"id\":\"28273\",\"type\":\"WheelZoomTool\"},{\"attributes\":{\"formatter\":{\"id\":\"28310\"},\"ticker\":{\"id\":\"28231\"}},\"id\":\"28230\",\"type\":\"LinearAxis\"},{\"attributes\":{\"overlay\":{\"id\":\"28278\"}},\"id\":\"28274\",\"type\":\"BoxZoomTool\"},{\"attributes\":{\"axis\":{\"id\":\"28226\"},\"grid_line_color\":null,\"ticker\":null},\"id\":\"28229\",\"type\":\"Grid\"},{\"attributes\":{},\"id\":\"28275\",\"type\":\"SaveTool\"},{\"attributes\":{\"active_drag\":\"auto\",\"active_inspect\":\"auto\",\"active_multi\":null,\"active_scroll\":\"auto\",\"active_tap\":\"auto\",\"tools\":[{\"id\":\"28158\"},{\"id\":\"28159\"},{\"id\":\"28160\"},{\"id\":\"28161\"},{\"id\":\"28162\"},{\"id\":\"28163\"}]},\"id\":\"28165\",\"type\":\"Toolbar\"},{\"attributes\":{},\"id\":\"28276\",\"type\":\"ResetTool\"},{\"attributes\":{},\"id\":\"28277\",\"type\":\"HelpTool\"},{\"attributes\":{\"bottom_units\":\"screen\",\"fill_alpha\":0.5,\"fill_color\":\"lightgrey\",\"left_units\":\"screen\",\"level\":\"overlay\",\"line_alpha\":1.0,\"line_color\":\"black\",\"line_dash\":[4,4],\"line_width\":2,\"right_units\":\"screen\",\"top_units\":\"screen\"},\"id\":\"28164\",\"type\":\"BoxAnnotation\"},{\"attributes\":{\"data_source\":{\"id\":\"28172\"},\"glyph\":{\"id\":\"28173\"},\"hover_glyph\":null,\"muted_glyph\":null,\"nonselection_glyph\":{\"id\":\"28174\"},\"selection_glyph\":null,\"view\":{\"id\":\"28176\"}},\"id\":\"28175\",\"type\":\"GlyphRenderer\"},{\"attributes\":{\"active_drag\":\"auto\",\"active_inspect\":\"auto\",\"active_multi\":null,\"active_scroll\":\"auto\",\"active_tap\":\"auto\",\"tools\":[{\"id\":\"28272\"},{\"id\":\"28273\"},{\"id\":\"28274\"},{\"id\":\"28275\"},{\"id\":\"28276\"},{\"id\":\"28277\"}]},\"id\":\"28279\",\"type\":\"Toolbar\"},{\"attributes\":{\"below\":[{\"id\":\"28226\"}],\"center\":[{\"id\":\"28229\"},{\"id\":\"28233\"}],\"left\":[{\"id\":\"28230\"}],\"plot_height\":350,\"plot_width\":350,\"renderers\":[{\"id\":\"28251\"}],\"title\":{\"id\":\"28216\"},\"toolbar\":{\"id\":\"28241\"},\"toolbar_location\":null,\"x_range\":{\"id\":\"28218\"},\"x_scale\":{\"id\":\"28222\"},\"y_range\":{\"id\":\"28220\"},\"y_scale\":{\"id\":\"28224\"}},\"id\":\"28215\",\"subtype\":\"Figure\",\"type\":\"Plot\"},{\"attributes\":{},\"id\":\"28310\",\"type\":\"BasicTickFormatter\"},{\"attributes\":{\"source\":{\"id\":\"28172\"}},\"id\":\"28176\",\"type\":\"CDSView\"},{\"attributes\":{},\"id\":\"28306\",\"type\":\"UnionRenderers\"},{\"attributes\":{\"fill_alpha\":{\"value\":0.1},\"fill_color\":{\"value\":\"#1f77b4\"},\"line_alpha\":{\"value\":0.1},\"line_color\":{\"value\":\"#1f77b4\"},\"top\":{\"field\":\"top\"},\"width\":{\"value\":0.9},\"x\":{\"field\":\"x\"}},\"id\":\"28212\",\"type\":\"VBar\"},{\"attributes\":{\"text\":\"North B\"},\"id\":\"28178\",\"type\":\"Title\"},{\"attributes\":{},\"id\":\"28312\",\"type\":\"BasicTickFormatter\"},{\"attributes\":{\"bottom_units\":\"screen\",\"fill_alpha\":0.5,\"fill_color\":\"lightgrey\",\"left_units\":\"screen\",\"level\":\"overlay\",\"line_alpha\":1.0,\"line_color\":\"black\",\"line_dash\":[4,4],\"line_width\":2,\"right_units\":\"screen\",\"top_units\":\"screen\"},\"id\":\"28278\",\"type\":\"BoxAnnotation\"},{\"attributes\":{},\"id\":\"28180\",\"type\":\"DataRange1d\"},{\"attributes\":{\"fill_alpha\":{\"value\":0.1},\"fill_color\":{\"value\":\"#1f77b4\"},\"line_alpha\":{\"value\":0.1},\"line_color\":{\"value\":\"#1f77b4\"},\"top\":{\"field\":\"top\"},\"width\":{\"value\":0.9},\"x\":{\"field\":\"x\"}},\"id\":\"28288\",\"type\":\"VBar\"},{\"attributes\":{\"end\":160,\"start\":120},\"id\":\"28182\",\"type\":\"Range1d\"},{\"attributes\":{\"fill_color\":{\"value\":\"#1f77b4\"},\"line_color\":{\"value\":\"#1f77b4\"},\"top\":{\"field\":\"top\"},\"width\":{\"value\":0.9},\"x\":{\"field\":\"x\"}},\"id\":\"28287\",\"type\":\"VBar\"},{\"attributes\":{},\"id\":\"28184\",\"type\":\"LinearScale\"},{\"attributes\":{},\"id\":\"28155\",\"type\":\"BasicTicker\"},{\"attributes\":{\"below\":[{\"id\":\"28150\"}],\"center\":[{\"id\":\"28153\"},{\"id\":\"28157\"}],\"left\":[{\"id\":\"28154\"}],\"plot_height\":350,\"plot_width\":350,\"renderers\":[{\"id\":\"28175\"}],\"title\":{\"id\":\"28140\"},\"toolbar\":{\"id\":\"28165\"},\"toolbar_location\":null,\"x_range\":{\"id\":\"28142\"},\"x_scale\":{\"id\":\"28146\"},\"y_range\":{\"id\":\"28144\"},\"y_scale\":{\"id\":\"28148\"}},\"id\":\"28139\",\"subtype\":\"Figure\",\"type\":\"Plot\"},{\"attributes\":{},\"id\":\"28186\",\"type\":\"LinearScale\"},{\"attributes\":{},\"id\":\"28292\",\"type\":\"BasicTickFormatter\"},{\"attributes\":{\"formatter\":{\"id\":\"28303\"},\"ticker\":{\"id\":\"28189\"}},\"id\":\"28188\",\"type\":\"LinearAxis\"},{\"attributes\":{},\"id\":\"28294\",\"type\":\"BasicTickFormatter\"},{\"attributes\":{},\"id\":\"28189\",\"type\":\"BasicTicker\"},{\"attributes\":{},\"id\":\"28296\",\"type\":\"Selection\"},{\"attributes\":{},\"id\":\"28305\",\"type\":\"Selection\"},{\"attributes\":{\"below\":[{\"id\":\"28188\"}],\"center\":[{\"id\":\"28191\"},{\"id\":\"28195\"}],\"left\":[{\"id\":\"28192\"}],\"plot_height\":350,\"plot_width\":350,\"renderers\":[{\"id\":\"28213\"}],\"title\":{\"id\":\"28178\"},\"toolbar\":{\"id\":\"28203\"},\"toolbar_location\":null,\"x_range\":{\"id\":\"28180\"},\"x_scale\":{\"id\":\"28184\"},\"y_range\":{\"id\":\"28182\"},\"y_scale\":{\"id\":\"28186\"}},\"id\":\"28177\",\"subtype\":\"Figure\",\"type\":\"Plot\"},{\"attributes\":{\"axis\":{\"id\":\"28188\"},\"grid_line_color\":null,\"ticker\":null},\"id\":\"28191\",\"type\":\"Grid\"},{\"attributes\":{},\"id\":\"28314\",\"type\":\"Selection\"},{\"attributes\":{\"text\":\"North A\"},\"id\":\"28140\",\"type\":\"Title\"},{\"attributes\":{\"formatter\":{\"id\":\"28301\"},\"ticker\":{\"id\":\"28193\"}},\"id\":\"28192\",\"type\":\"LinearAxis\"},{\"attributes\":{},\"id\":\"28315\",\"type\":\"UnionRenderers\"},{\"attributes\":{\"fill_alpha\":{\"value\":0.1},\"fill_color\":{\"value\":\"#1f77b4\"},\"line_alpha\":{\"value\":0.1},\"line_color\":{\"value\":\"#1f77b4\"},\"top\":{\"field\":\"top\"},\"width\":{\"value\":0.9},\"x\":{\"field\":\"x\"}},\"id\":\"28174\",\"type\":\"VBar\"},{\"attributes\":{},\"id\":\"28193\",\"type\":\"BasicTicker\"},{\"attributes\":{},\"id\":\"28319\",\"type\":\"BasicTickFormatter\"},{\"attributes\":{\"axis\":{\"id\":\"28192\"},\"dimension\":1,\"ticker\":null},\"id\":\"28195\",\"type\":\"Grid\"},{\"attributes\":{},\"id\":\"28321\",\"type\":\"BasicTickFormatter\"},{\"attributes\":{},\"id\":\"28142\",\"type\":\"DataRange1d\"},{\"attributes\":{},\"id\":\"28323\",\"type\":\"Selection\"},{\"attributes\":{\"below\":[{\"id\":\"28264\"}],\"center\":[{\"id\":\"28267\"},{\"id\":\"28271\"}],\"left\":[{\"id\":\"28268\"}],\"plot_height\":350,\"plot_width\":350,\"renderers\":[{\"id\":\"28289\"}],\"title\":{\"id\":\"28254\"},\"toolbar\":{\"id\":\"28279\"},\"toolbar_location\":null,\"x_range\":{\"id\":\"28256\"},\"x_scale\":{\"id\":\"28260\"},\"y_range\":{\"id\":\"28258\"},\"y_scale\":{\"id\":\"28262\"}},\"id\":\"28253\",\"subtype\":\"Figure\",\"type\":\"Plot\"},{\"attributes\":{},\"id\":\"28146\",\"type\":\"LinearScale\"},{\"attributes\":{\"fill_color\":{\"value\":\"#1f77b4\"},\"line_color\":{\"value\":\"#1f77b4\"},\"top\":{\"field\":\"top\"},\"width\":{\"value\":0.9},\"x\":{\"field\":\"x\"}},\"id\":\"28211\",\"type\":\"VBar\"},{\"attributes\":{},\"id\":\"28324\",\"type\":\"UnionRenderers\"},{\"attributes\":{\"end\":160,\"start\":120},\"id\":\"28144\",\"type\":\"Range1d\"},{\"attributes\":{\"data\":{\"top\":[142.4,142.5,142.9,142.9,143.3,145.1,146.4,147.3,147.6,147.6,148.5,148.7,148.7,149.5,150.4,150.9,151.4,151.4,152.5,153.9,154.0,154.5,156.7,161.9],\"x\":[0,1,2,3,4,5,6,7,8,9,10,11,12,13,14,15,16,17,18,19,20,21,22,23]},\"selected\":{\"id\":\"28305\"},\"selection_policy\":{\"id\":\"28306\"}},\"id\":\"28210\",\"type\":\"ColumnDataSource\"},{\"attributes\":{\"toolbars\":[{\"id\":\"28165\"},{\"id\":\"28203\"},{\"id\":\"28241\"},{\"id\":\"28279\"}],\"tools\":[{\"id\":\"28158\"},{\"id\":\"28159\"},{\"id\":\"28160\"},{\"id\":\"28161\"},{\"id\":\"28162\"},{\"id\":\"28163\"},{\"id\":\"28196\"},{\"id\":\"28197\"},{\"id\":\"28198\"},{\"id\":\"28199\"},{\"id\":\"28200\"},{\"id\":\"28201\"},{\"id\":\"28234\"},{\"id\":\"28235\"},{\"id\":\"28236\"},{\"id\":\"28237\"},{\"id\":\"28238\"},{\"id\":\"28239\"},{\"id\":\"28272\"},{\"id\":\"28273\"},{\"id\":\"28274\"},{\"id\":\"28275\"},{\"id\":\"28276\"},{\"id\":\"28277\"}]},\"id\":\"28328\",\"type\":\"ProxyToolbar\"},{\"attributes\":{},\"id\":\"28196\",\"type\":\"PanTool\"},{\"attributes\":{\"axis\":{\"id\":\"28150\"},\"grid_line_color\":null,\"ticker\":null},\"id\":\"28153\",\"type\":\"Grid\"},{\"attributes\":{\"toolbar\":{\"id\":\"28328\"},\"toolbar_location\":\"above\"},\"id\":\"28329\",\"type\":\"ToolbarBox\"},{\"attributes\":{},\"id\":\"28197\",\"type\":\"WheelZoomTool\"},{\"attributes\":{},\"id\":\"28151\",\"type\":\"BasicTicker\"},{\"attributes\":{\"overlay\":{\"id\":\"28202\"}},\"id\":\"28198\",\"type\":\"BoxZoomTool\"},{\"attributes\":{\"formatter\":{\"id\":\"28294\"},\"ticker\":{\"id\":\"28151\"}},\"id\":\"28150\",\"type\":\"LinearAxis\"},{\"attributes\":{},\"id\":\"28199\",\"type\":\"SaveTool\"},{\"attributes\":{},\"id\":\"28148\",\"type\":\"LinearScale\"},{\"attributes\":{},\"id\":\"28200\",\"type\":\"ResetTool\"},{\"attributes\":{\"formatter\":{\"id\":\"28292\"},\"ticker\":{\"id\":\"28155\"}},\"id\":\"28154\",\"type\":\"LinearAxis\"},{\"attributes\":{},\"id\":\"28159\",\"type\":\"WheelZoomTool\"},{\"attributes\":{},\"id\":\"28201\",\"type\":\"HelpTool\"},{\"attributes\":{},\"id\":\"28158\",\"type\":\"PanTool\"},{\"attributes\":{},\"id\":\"28222\",\"type\":\"LinearScale\"},{\"attributes\":{},\"id\":\"28227\",\"type\":\"BasicTicker\"},{\"attributes\":{\"data\":{\"top\":[142.0,142.4,143.5,143.5,145.0,145.1,146.1,146.3,149.9,149.9,150.6,151.2,151.4,151.6,151.8,152.4,152.7,152.8,152.9,153.5,154.1,154.2,154.6,155.9,158.2],\"x\":[0,1,2,3,4,5,6,7,8,9,10,11,12,13,14,15,16,17,18,19,20,21,22,23,24]},\"selected\":{\"id\":\"28296\"},\"selection_policy\":{\"id\":\"28297\"}},\"id\":\"28172\",\"type\":\"ColumnDataSource\"},{\"attributes\":{\"active_drag\":\"auto\",\"active_inspect\":\"auto\",\"active_multi\":null,\"active_scroll\":\"auto\",\"active_tap\":\"auto\",\"tools\":[{\"id\":\"28196\"},{\"id\":\"28197\"},{\"id\":\"28198\"},{\"id\":\"28199\"},{\"id\":\"28200\"},{\"id\":\"28201\"}]},\"id\":\"28203\",\"type\":\"Toolbar\"},{\"attributes\":{\"axis\":{\"id\":\"28154\"},\"dimension\":1,\"ticker\":null},\"id\":\"28157\",\"type\":\"Grid\"},{\"attributes\":{\"formatter\":{\"id\":\"28312\"},\"ticker\":{\"id\":\"28227\"}},\"id\":\"28226\",\"type\":\"LinearAxis\"},{\"attributes\":{},\"id\":\"28224\",\"type\":\"LinearScale\"},{\"attributes\":{\"fill_color\":{\"value\":\"#1f77b4\"},\"line_color\":{\"value\":\"#1f77b4\"},\"top\":{\"field\":\"top\"},\"width\":{\"value\":0.9},\"x\":{\"field\":\"x\"}},\"id\":\"28173\",\"type\":\"VBar\"},{\"attributes\":{\"source\":{\"id\":\"28248\"}},\"id\":\"28252\",\"type\":\"CDSView\"},{\"attributes\":{\"bottom_units\":\"screen\",\"fill_alpha\":0.5,\"fill_color\":\"lightgrey\",\"left_units\":\"screen\",\"level\":\"overlay\",\"line_alpha\":1.0,\"line_color\":\"black\",\"line_dash\":[4,4],\"line_width\":2,\"right_units\":\"screen\",\"top_units\":\"screen\"},\"id\":\"28202\",\"type\":\"BoxAnnotation\"},{\"attributes\":{\"data_source\":{\"id\":\"28248\"},\"glyph\":{\"id\":\"28249\"},\"hover_glyph\":null,\"muted_glyph\":null,\"nonselection_glyph\":{\"id\":\"28250\"},\"selection_glyph\":null,\"view\":{\"id\":\"28252\"}},\"id\":\"28251\",\"type\":\"GlyphRenderer\"},{\"attributes\":{\"data_source\":{\"id\":\"28210\"},\"glyph\":{\"id\":\"28211\"},\"hover_glyph\":null,\"muted_glyph\":null,\"nonselection_glyph\":{\"id\":\"28212\"},\"selection_glyph\":null,\"view\":{\"id\":\"28214\"}},\"id\":\"28213\",\"type\":\"GlyphRenderer\"},{\"attributes\":{\"text\":\"South A\"},\"id\":\"28216\",\"type\":\"Title\"},{\"attributes\":{},\"id\":\"28218\",\"type\":\"DataRange1d\"},{\"attributes\":{\"end\":180,\"start\":120},\"id\":\"28220\",\"type\":\"Range1d\"},{\"attributes\":{\"axis\":{\"id\":\"28230\"},\"dimension\":1,\"ticker\":null},\"id\":\"28233\",\"type\":\"Grid\"},{\"attributes\":{\"data\":{\"top\":[141.8,142.1,142.7,146.4,146.4,146.5,146.6,147.6,147.6,148.2,149.3,149.5,150.2,152.3,152.3,152.4,153.3,153.3,153.8,154.7,155.8,157.6,158.0,158.3,159.3],\"x\":[0,1,2,3,4,5,6,7,8,9,10,11,12,13,14,15,16,17,18,19,20,21,22,23,24]},\"selected\":{\"id\":\"28314\"},\"selection_policy\":{\"id\":\"28315\"}},\"id\":\"28248\",\"type\":\"ColumnDataSource\"},{\"attributes\":{},\"id\":\"28234\",\"type\":\"PanTool\"},{\"attributes\":{\"overlay\":{\"id\":\"28164\"}},\"id\":\"28160\",\"type\":\"BoxZoomTool\"},{\"attributes\":{},\"id\":\"28235\",\"type\":\"WheelZoomTool\"},{\"attributes\":{\"overlay\":{\"id\":\"28240\"}},\"id\":\"28236\",\"type\":\"BoxZoomTool\"},{\"attributes\":{},\"id\":\"28237\",\"type\":\"SaveTool\"},{\"attributes\":{},\"id\":\"28238\",\"type\":\"ResetTool\"},{\"attributes\":{},\"id\":\"28239\",\"type\":\"HelpTool\"},{\"attributes\":{\"active_drag\":\"auto\",\"active_inspect\":\"auto\",\"active_multi\":null,\"active_scroll\":\"auto\",\"active_tap\":\"auto\",\"tools\":[{\"id\":\"28234\"},{\"id\":\"28235\"},{\"id\":\"28236\"},{\"id\":\"28237\"},{\"id\":\"28238\"},{\"id\":\"28239\"}]},\"id\":\"28241\",\"type\":\"Toolbar\"},{\"attributes\":{},\"id\":\"28301\",\"type\":\"BasicTickFormatter\"},{\"attributes\":{},\"id\":\"28297\",\"type\":\"UnionRenderers\"},{\"attributes\":{},\"id\":\"28303\",\"type\":\"BasicTickFormatter\"},{\"attributes\":{\"bottom_units\":\"screen\",\"fill_alpha\":0.5,\"fill_color\":\"lightgrey\",\"left_units\":\"screen\",\"level\":\"overlay\",\"line_alpha\":1.0,\"line_color\":\"black\",\"line_dash\":[4,4],\"line_width\":2,\"right_units\":\"screen\",\"top_units\":\"screen\"},\"id\":\"28240\",\"type\":\"BoxAnnotation\"},{\"attributes\":{\"children\":[[{\"id\":\"28139\"},0,0],[{\"id\":\"28177\"},0,1],[{\"id\":\"28215\"},1,0],[{\"id\":\"28253\"},1,1]]},\"id\":\"28327\",\"type\":\"GridBox\"},{\"attributes\":{\"fill_alpha\":{\"value\":0.1},\"fill_color\":{\"value\":\"#1f77b4\"},\"line_alpha\":{\"value\":0.1},\"line_color\":{\"value\":\"#1f77b4\"},\"top\":{\"field\":\"top\"},\"width\":{\"value\":0.9},\"x\":{\"field\":\"x\"}},\"id\":\"28250\",\"type\":\"VBar\"},{\"attributes\":{\"fill_color\":{\"value\":\"#1f77b4\"},\"line_color\":{\"value\":\"#1f77b4\"},\"top\":{\"field\":\"top\"},\"width\":{\"value\":0.9},\"x\":{\"field\":\"x\"}},\"id\":\"28249\",\"type\":\"VBar\"},{\"attributes\":{\"data\":{\"top\":[152.6,160.8,161.3,162.3,163.3,163.3,163.4,163.6,164.0,164.4,164.5,164.6,165.0,166.3,168.4,168.5,168.7,168.9,169.5,169.6,169.9,172.8,173.6,177.6],\"x\":[0,1,2,3,4,5,6,7,8,9,10,11,12,13,14,15,16,17,18,19,20,21,22,23]},\"selected\":{\"id\":\"28323\"},\"selection_policy\":{\"id\":\"28324\"}},\"id\":\"28286\",\"type\":\"ColumnDataSource\"},{\"attributes\":{\"text\":\"South B\"},\"id\":\"28254\",\"type\":\"Title\"},{\"attributes\":{},\"id\":\"28256\",\"type\":\"DataRange1d\"},{\"attributes\":{\"end\":180,\"start\":120},\"id\":\"28258\",\"type\":\"Range1d\"},{\"attributes\":{},\"id\":\"28260\",\"type\":\"LinearScale\"},{\"attributes\":{},\"id\":\"28262\",\"type\":\"LinearScale\"},{\"attributes\":{\"formatter\":{\"id\":\"28321\"},\"ticker\":{\"id\":\"28265\"}},\"id\":\"28264\",\"type\":\"LinearAxis\"},{\"attributes\":{},\"id\":\"28265\",\"type\":\"BasicTicker\"},{\"attributes\":{\"axis\":{\"id\":\"28264\"},\"grid_line_color\":null,\"ticker\":null},\"id\":\"28267\",\"type\":\"Grid\"},{\"attributes\":{\"formatter\":{\"id\":\"28319\"},\"ticker\":{\"id\":\"28269\"}},\"id\":\"28268\",\"type\":\"LinearAxis\"},{\"attributes\":{},\"id\":\"28269\",\"type\":\"BasicTicker\"},{\"attributes\":{\"axis\":{\"id\":\"28268\"},\"dimension\":1,\"ticker\":null},\"id\":\"28271\",\"type\":\"Grid\"}],\"root_ids\":[\"28330\"]},\"title\":\"Bokeh Application\",\"version\":\"2.1.1\"}};\n",
       "  var render_items = [{\"docid\":\"43fb0c38-1e33-4987-ab4f-98eda4784db0\",\"root_ids\":[\"28330\"],\"roots\":{\"28330\":\"b4018965-a35d-477d-a700-d4d9eb3c274e\"}}];\n",
       "  root.Bokeh.embed.embed_items_notebook(docs_json, render_items);\n",
       "\n",
       "  }\n",
       "  if (root.Bokeh !== undefined) {\n",
       "    embed_document(root);\n",
       "  } else {\n",
       "    var attempts = 0;\n",
       "    var timer = setInterval(function(root) {\n",
       "      if (root.Bokeh !== undefined) {\n",
       "        clearInterval(timer);\n",
       "        embed_document(root);\n",
       "      } else {\n",
       "        attempts++;\n",
       "        if (attempts > 100) {\n",
       "          clearInterval(timer);\n",
       "          console.log(\"Bokeh: ERROR: Unable to run BokehJS code because BokehJS library is missing\");\n",
       "        }\n",
       "      }\n",
       "    }, 10, root)\n",
       "  }\n",
       "})(window);"
      ],
      "application/vnd.bokehjs_exec.v0+json": ""
     },
     "metadata": {
      "application/vnd.bokehjs_exec.v0+json": {
       "id": "28330"
      }
     },
     "output_type": "display_data"
    }
   ],
   "source": [
    "def make_bar(labels, nums, title = None, y_range = None, plot_width = 350, plot_height = 350):\n",
    "    p = figure(title = title, plot_width = plot_width, plot_height = plot_height,\n",
    "              y_range = y_range)\n",
    "    p.vbar(x=labels, top=nums, width=0.9)\n",
    "    p.xgrid.grid_line_color = None\n",
    "    return p\n",
    "\n",
    "P_NORTH_A = make_bar(labels = [x for x in range(len(NORTH_A))], nums = sorted(NORTH_A), \n",
    "               title = 'North A', y_range = (120, 160))\n",
    "P_NORTH_B = make_bar(labels = [x for x in range(len(NORTH_B))], nums = sorted(NORTH_B), \n",
    "               title = \"North B\", y_range = (120, 160))\n",
    "P_SOUTH_A = make_bar(labels = [x for x in range(len(SOUTH_A))], nums = sorted(SOUTH_A), \n",
    "                title = 'South A', y_range = (120, 180))\n",
    "P_SOUTH_B = make_bar(labels = [x for x in range(len(SOUTH_B))], nums = sorted(SOUTH_B), \n",
    "                title = \"South B\", y_range = (120, 180))\n",
    "\n",
    "\n",
    "grid = gridplot([ P_NORTH_A, P_NORTH_B, P_SOUTH_A,P_SOUTH_B,], ncols = 2)\n",
    "show(grid)"
   ]
  },
  {
   "cell_type": "markdown",
   "metadata": {},
   "source": [
    "Let's get the means"
   ]
  },
  {
   "cell_type": "code",
   "execution_count": 128,
   "metadata": {},
   "outputs": [
    {
     "name": "stdout",
     "output_type": "stream",
     "text": [
      "150.64\n",
      "166.12083333333337\n",
      "150.064\n",
      "149.20833333333334\n"
     ]
    }
   ],
   "source": [
    "print(np.mean(SOUTH_A))\n",
    "print(np.mean(SOUTH_B))\n",
    "print(np.mean(NORTH_A))\n",
    "print(np.mean(NORTH_B))\n"
   ]
  },
  {
   "cell_type": "code",
   "execution_count": 111,
   "metadata": {},
   "outputs": [
    {
     "data": {
      "text/html": [
       "\n",
       "    <div class=\"bk-root\">\n",
       "        <a href=\"https://bokeh.org\" target=\"_blank\" class=\"bk-logo bk-logo-small bk-logo-notebook\"></a>\n",
       "        <span id=\"7750\">Loading BokehJS ...</span>\n",
       "    </div>"
      ]
     },
     "metadata": {},
     "output_type": "display_data"
    },
    {
     "data": {
      "application/javascript": [
       "\n",
       "(function(root) {\n",
       "  function now() {\n",
       "    return new Date();\n",
       "  }\n",
       "\n",
       "  var force = true;\n",
       "\n",
       "  if (typeof root._bokeh_onload_callbacks === \"undefined\" || force === true) {\n",
       "    root._bokeh_onload_callbacks = [];\n",
       "    root._bokeh_is_loading = undefined;\n",
       "  }\n",
       "\n",
       "  var JS_MIME_TYPE = 'application/javascript';\n",
       "  var HTML_MIME_TYPE = 'text/html';\n",
       "  var EXEC_MIME_TYPE = 'application/vnd.bokehjs_exec.v0+json';\n",
       "  var CLASS_NAME = 'output_bokeh rendered_html';\n",
       "\n",
       "  /**\n",
       "   * Render data to the DOM node\n",
       "   */\n",
       "  function render(props, node) {\n",
       "    var script = document.createElement(\"script\");\n",
       "    node.appendChild(script);\n",
       "  }\n",
       "\n",
       "  /**\n",
       "   * Handle when an output is cleared or removed\n",
       "   */\n",
       "  function handleClearOutput(event, handle) {\n",
       "    var cell = handle.cell;\n",
       "\n",
       "    var id = cell.output_area._bokeh_element_id;\n",
       "    var server_id = cell.output_area._bokeh_server_id;\n",
       "    // Clean up Bokeh references\n",
       "    if (id != null && id in Bokeh.index) {\n",
       "      Bokeh.index[id].model.document.clear();\n",
       "      delete Bokeh.index[id];\n",
       "    }\n",
       "\n",
       "    if (server_id !== undefined) {\n",
       "      // Clean up Bokeh references\n",
       "      var cmd = \"from bokeh.io.state import curstate; print(curstate().uuid_to_server['\" + server_id + \"'].get_sessions()[0].document.roots[0]._id)\";\n",
       "      cell.notebook.kernel.execute(cmd, {\n",
       "        iopub: {\n",
       "          output: function(msg) {\n",
       "            var id = msg.content.text.trim();\n",
       "            if (id in Bokeh.index) {\n",
       "              Bokeh.index[id].model.document.clear();\n",
       "              delete Bokeh.index[id];\n",
       "            }\n",
       "          }\n",
       "        }\n",
       "      });\n",
       "      // Destroy server and session\n",
       "      var cmd = \"import bokeh.io.notebook as ion; ion.destroy_server('\" + server_id + \"')\";\n",
       "      cell.notebook.kernel.execute(cmd);\n",
       "    }\n",
       "  }\n",
       "\n",
       "  /**\n",
       "   * Handle when a new output is added\n",
       "   */\n",
       "  function handleAddOutput(event, handle) {\n",
       "    var output_area = handle.output_area;\n",
       "    var output = handle.output;\n",
       "\n",
       "    // limit handleAddOutput to display_data with EXEC_MIME_TYPE content only\n",
       "    if ((output.output_type != \"display_data\") || (!output.data.hasOwnProperty(EXEC_MIME_TYPE))) {\n",
       "      return\n",
       "    }\n",
       "\n",
       "    var toinsert = output_area.element.find(\".\" + CLASS_NAME.split(' ')[0]);\n",
       "\n",
       "    if (output.metadata[EXEC_MIME_TYPE][\"id\"] !== undefined) {\n",
       "      toinsert[toinsert.length - 1].firstChild.textContent = output.data[JS_MIME_TYPE];\n",
       "      // store reference to embed id on output_area\n",
       "      output_area._bokeh_element_id = output.metadata[EXEC_MIME_TYPE][\"id\"];\n",
       "    }\n",
       "    if (output.metadata[EXEC_MIME_TYPE][\"server_id\"] !== undefined) {\n",
       "      var bk_div = document.createElement(\"div\");\n",
       "      bk_div.innerHTML = output.data[HTML_MIME_TYPE];\n",
       "      var script_attrs = bk_div.children[0].attributes;\n",
       "      for (var i = 0; i < script_attrs.length; i++) {\n",
       "        toinsert[toinsert.length - 1].firstChild.setAttribute(script_attrs[i].name, script_attrs[i].value);\n",
       "        toinsert[toinsert.length - 1].firstChild.textContent = bk_div.children[0].textContent\n",
       "      }\n",
       "      // store reference to server id on output_area\n",
       "      output_area._bokeh_server_id = output.metadata[EXEC_MIME_TYPE][\"server_id\"];\n",
       "    }\n",
       "  }\n",
       "\n",
       "  function register_renderer(events, OutputArea) {\n",
       "\n",
       "    function append_mime(data, metadata, element) {\n",
       "      // create a DOM node to render to\n",
       "      var toinsert = this.create_output_subarea(\n",
       "        metadata,\n",
       "        CLASS_NAME,\n",
       "        EXEC_MIME_TYPE\n",
       "      );\n",
       "      this.keyboard_manager.register_events(toinsert);\n",
       "      // Render to node\n",
       "      var props = {data: data, metadata: metadata[EXEC_MIME_TYPE]};\n",
       "      render(props, toinsert[toinsert.length - 1]);\n",
       "      element.append(toinsert);\n",
       "      return toinsert\n",
       "    }\n",
       "\n",
       "    /* Handle when an output is cleared or removed */\n",
       "    events.on('clear_output.CodeCell', handleClearOutput);\n",
       "    events.on('delete.Cell', handleClearOutput);\n",
       "\n",
       "    /* Handle when a new output is added */\n",
       "    events.on('output_added.OutputArea', handleAddOutput);\n",
       "\n",
       "    /**\n",
       "     * Register the mime type and append_mime function with output_area\n",
       "     */\n",
       "    OutputArea.prototype.register_mime_type(EXEC_MIME_TYPE, append_mime, {\n",
       "      /* Is output safe? */\n",
       "      safe: true,\n",
       "      /* Index of renderer in `output_area.display_order` */\n",
       "      index: 0\n",
       "    });\n",
       "  }\n",
       "\n",
       "  // register the mime type if in Jupyter Notebook environment and previously unregistered\n",
       "  if (root.Jupyter !== undefined) {\n",
       "    var events = require('base/js/events');\n",
       "    var OutputArea = require('notebook/js/outputarea').OutputArea;\n",
       "\n",
       "    if (OutputArea.prototype.mime_types().indexOf(EXEC_MIME_TYPE) == -1) {\n",
       "      register_renderer(events, OutputArea);\n",
       "    }\n",
       "  }\n",
       "\n",
       "  \n",
       "  if (typeof (root._bokeh_timeout) === \"undefined\" || force === true) {\n",
       "    root._bokeh_timeout = Date.now() + 5000;\n",
       "    root._bokeh_failed_load = false;\n",
       "  }\n",
       "\n",
       "  var NB_LOAD_WARNING = {'data': {'text/html':\n",
       "     \"<div style='background-color: #fdd'>\\n\"+\n",
       "     \"<p>\\n\"+\n",
       "     \"BokehJS does not appear to have successfully loaded. If loading BokehJS from CDN, this \\n\"+\n",
       "     \"may be due to a slow or bad network connection. Possible fixes:\\n\"+\n",
       "     \"</p>\\n\"+\n",
       "     \"<ul>\\n\"+\n",
       "     \"<li>re-rerun `output_notebook()` to attempt to load from CDN again, or</li>\\n\"+\n",
       "     \"<li>use INLINE resources instead, as so:</li>\\n\"+\n",
       "     \"</ul>\\n\"+\n",
       "     \"<code>\\n\"+\n",
       "     \"from bokeh.resources import INLINE\\n\"+\n",
       "     \"output_notebook(resources=INLINE)\\n\"+\n",
       "     \"</code>\\n\"+\n",
       "     \"</div>\"}};\n",
       "\n",
       "  function display_loaded() {\n",
       "    var el = document.getElementById(\"7750\");\n",
       "    if (el != null) {\n",
       "      el.textContent = \"BokehJS is loading...\";\n",
       "    }\n",
       "    if (root.Bokeh !== undefined) {\n",
       "      if (el != null) {\n",
       "        el.textContent = \"BokehJS \" + root.Bokeh.version + \" successfully loaded.\";\n",
       "      }\n",
       "    } else if (Date.now() < root._bokeh_timeout) {\n",
       "      setTimeout(display_loaded, 100)\n",
       "    }\n",
       "  }\n",
       "\n",
       "\n",
       "  function run_callbacks() {\n",
       "    try {\n",
       "      root._bokeh_onload_callbacks.forEach(function(callback) {\n",
       "        if (callback != null)\n",
       "          callback();\n",
       "      });\n",
       "    } finally {\n",
       "      delete root._bokeh_onload_callbacks\n",
       "    }\n",
       "    console.debug(\"Bokeh: all callbacks have finished\");\n",
       "  }\n",
       "\n",
       "  function load_libs(css_urls, js_urls, callback) {\n",
       "    if (css_urls == null) css_urls = [];\n",
       "    if (js_urls == null) js_urls = [];\n",
       "\n",
       "    root._bokeh_onload_callbacks.push(callback);\n",
       "    if (root._bokeh_is_loading > 0) {\n",
       "      console.debug(\"Bokeh: BokehJS is being loaded, scheduling callback at\", now());\n",
       "      return null;\n",
       "    }\n",
       "    if (js_urls == null || js_urls.length === 0) {\n",
       "      run_callbacks();\n",
       "      return null;\n",
       "    }\n",
       "    console.debug(\"Bokeh: BokehJS not loaded, scheduling load and callback at\", now());\n",
       "    root._bokeh_is_loading = css_urls.length + js_urls.length;\n",
       "\n",
       "    function on_load() {\n",
       "      root._bokeh_is_loading--;\n",
       "      if (root._bokeh_is_loading === 0) {\n",
       "        console.debug(\"Bokeh: all BokehJS libraries/stylesheets loaded\");\n",
       "        run_callbacks()\n",
       "      }\n",
       "    }\n",
       "\n",
       "    function on_error() {\n",
       "      console.error(\"failed to load \" + url);\n",
       "    }\n",
       "\n",
       "    for (var i = 0; i < css_urls.length; i++) {\n",
       "      var url = css_urls[i];\n",
       "      const element = document.createElement(\"link\");\n",
       "      element.onload = on_load;\n",
       "      element.onerror = on_error;\n",
       "      element.rel = \"stylesheet\";\n",
       "      element.type = \"text/css\";\n",
       "      element.href = url;\n",
       "      console.debug(\"Bokeh: injecting link tag for BokehJS stylesheet: \", url);\n",
       "      document.body.appendChild(element);\n",
       "    }\n",
       "\n",
       "    const hashes = {\"https://cdn.bokeh.org/bokeh/release/bokeh-2.1.1.min.js\": \"kLr4fYcqcSpbuI95brIH3vnnYCquzzSxHPU6XGQCIkQRGJwhg0StNbj1eegrHs12\", \"https://cdn.bokeh.org/bokeh/release/bokeh-widgets-2.1.1.min.js\": \"xIGPmVtaOm+z0BqfSOMn4lOR6ciex448GIKG4eE61LsAvmGj48XcMQZtKcE/UXZe\", \"https://cdn.bokeh.org/bokeh/release/bokeh-tables-2.1.1.min.js\": \"Dc9u1wF/0zApGIWoBbH77iWEHtdmkuYWG839Uzmv8y8yBLXebjO9ZnERsde5Ln/P\", \"https://cdn.bokeh.org/bokeh/release/bokeh-gl-2.1.1.min.js\": \"cT9JaBz7GiRXdENrJLZNSC6eMNF3nh3fa5fTF51Svp+ukxPdwcU5kGXGPBgDCa2j\"};\n",
       "\n",
       "    for (var i = 0; i < js_urls.length; i++) {\n",
       "      var url = js_urls[i];\n",
       "      var element = document.createElement('script');\n",
       "      element.onload = on_load;\n",
       "      element.onerror = on_error;\n",
       "      element.async = false;\n",
       "      element.src = url;\n",
       "      if (url in hashes) {\n",
       "        element.crossOrigin = \"anonymous\";\n",
       "        element.integrity = \"sha384-\" + hashes[url];\n",
       "      }\n",
       "      console.debug(\"Bokeh: injecting script tag for BokehJS library: \", url);\n",
       "      document.head.appendChild(element);\n",
       "    }\n",
       "  };\n",
       "\n",
       "  function inject_raw_css(css) {\n",
       "    const element = document.createElement(\"style\");\n",
       "    element.appendChild(document.createTextNode(css));\n",
       "    document.body.appendChild(element);\n",
       "  }\n",
       "\n",
       "  \n",
       "  var js_urls = [\"https://cdn.bokeh.org/bokeh/release/bokeh-2.1.1.min.js\", \"https://cdn.bokeh.org/bokeh/release/bokeh-widgets-2.1.1.min.js\", \"https://cdn.bokeh.org/bokeh/release/bokeh-tables-2.1.1.min.js\", \"https://cdn.bokeh.org/bokeh/release/bokeh-gl-2.1.1.min.js\"];\n",
       "  var css_urls = [];\n",
       "  \n",
       "\n",
       "  var inline_js = [\n",
       "    function(Bokeh) {\n",
       "      Bokeh.set_log_level(\"info\");\n",
       "    },\n",
       "    function(Bokeh) {\n",
       "    \n",
       "    \n",
       "    }\n",
       "  ];\n",
       "\n",
       "  function run_inline_js() {\n",
       "    \n",
       "    if (root.Bokeh !== undefined || force === true) {\n",
       "      \n",
       "    for (var i = 0; i < inline_js.length; i++) {\n",
       "      inline_js[i].call(root, root.Bokeh);\n",
       "    }\n",
       "    if (force === true) {\n",
       "        display_loaded();\n",
       "      }} else if (Date.now() < root._bokeh_timeout) {\n",
       "      setTimeout(run_inline_js, 100);\n",
       "    } else if (!root._bokeh_failed_load) {\n",
       "      console.log(\"Bokeh: BokehJS failed to load within specified timeout.\");\n",
       "      root._bokeh_failed_load = true;\n",
       "    } else if (force !== true) {\n",
       "      var cell = $(document.getElementById(\"7750\")).parents('.cell').data().cell;\n",
       "      cell.output_area.append_execute_result(NB_LOAD_WARNING)\n",
       "    }\n",
       "\n",
       "  }\n",
       "\n",
       "  if (root._bokeh_is_loading === 0) {\n",
       "    console.debug(\"Bokeh: BokehJS loaded, going straight to plotting\");\n",
       "    run_inline_js();\n",
       "  } else {\n",
       "    load_libs(css_urls, js_urls, function() {\n",
       "      console.debug(\"Bokeh: BokehJS plotting callback run at\", now());\n",
       "      run_inline_js();\n",
       "    });\n",
       "  }\n",
       "}(window));"
      ],
      "application/vnd.bokehjs_load.v0+json": "\n(function(root) {\n  function now() {\n    return new Date();\n  }\n\n  var force = true;\n\n  if (typeof root._bokeh_onload_callbacks === \"undefined\" || force === true) {\n    root._bokeh_onload_callbacks = [];\n    root._bokeh_is_loading = undefined;\n  }\n\n  \n\n  \n  if (typeof (root._bokeh_timeout) === \"undefined\" || force === true) {\n    root._bokeh_timeout = Date.now() + 5000;\n    root._bokeh_failed_load = false;\n  }\n\n  var NB_LOAD_WARNING = {'data': {'text/html':\n     \"<div style='background-color: #fdd'>\\n\"+\n     \"<p>\\n\"+\n     \"BokehJS does not appear to have successfully loaded. If loading BokehJS from CDN, this \\n\"+\n     \"may be due to a slow or bad network connection. Possible fixes:\\n\"+\n     \"</p>\\n\"+\n     \"<ul>\\n\"+\n     \"<li>re-rerun `output_notebook()` to attempt to load from CDN again, or</li>\\n\"+\n     \"<li>use INLINE resources instead, as so:</li>\\n\"+\n     \"</ul>\\n\"+\n     \"<code>\\n\"+\n     \"from bokeh.resources import INLINE\\n\"+\n     \"output_notebook(resources=INLINE)\\n\"+\n     \"</code>\\n\"+\n     \"</div>\"}};\n\n  function display_loaded() {\n    var el = document.getElementById(\"7750\");\n    if (el != null) {\n      el.textContent = \"BokehJS is loading...\";\n    }\n    if (root.Bokeh !== undefined) {\n      if (el != null) {\n        el.textContent = \"BokehJS \" + root.Bokeh.version + \" successfully loaded.\";\n      }\n    } else if (Date.now() < root._bokeh_timeout) {\n      setTimeout(display_loaded, 100)\n    }\n  }\n\n\n  function run_callbacks() {\n    try {\n      root._bokeh_onload_callbacks.forEach(function(callback) {\n        if (callback != null)\n          callback();\n      });\n    } finally {\n      delete root._bokeh_onload_callbacks\n    }\n    console.debug(\"Bokeh: all callbacks have finished\");\n  }\n\n  function load_libs(css_urls, js_urls, callback) {\n    if (css_urls == null) css_urls = [];\n    if (js_urls == null) js_urls = [];\n\n    root._bokeh_onload_callbacks.push(callback);\n    if (root._bokeh_is_loading > 0) {\n      console.debug(\"Bokeh: BokehJS is being loaded, scheduling callback at\", now());\n      return null;\n    }\n    if (js_urls == null || js_urls.length === 0) {\n      run_callbacks();\n      return null;\n    }\n    console.debug(\"Bokeh: BokehJS not loaded, scheduling load and callback at\", now());\n    root._bokeh_is_loading = css_urls.length + js_urls.length;\n\n    function on_load() {\n      root._bokeh_is_loading--;\n      if (root._bokeh_is_loading === 0) {\n        console.debug(\"Bokeh: all BokehJS libraries/stylesheets loaded\");\n        run_callbacks()\n      }\n    }\n\n    function on_error() {\n      console.error(\"failed to load \" + url);\n    }\n\n    for (var i = 0; i < css_urls.length; i++) {\n      var url = css_urls[i];\n      const element = document.createElement(\"link\");\n      element.onload = on_load;\n      element.onerror = on_error;\n      element.rel = \"stylesheet\";\n      element.type = \"text/css\";\n      element.href = url;\n      console.debug(\"Bokeh: injecting link tag for BokehJS stylesheet: \", url);\n      document.body.appendChild(element);\n    }\n\n    const hashes = {\"https://cdn.bokeh.org/bokeh/release/bokeh-2.1.1.min.js\": \"kLr4fYcqcSpbuI95brIH3vnnYCquzzSxHPU6XGQCIkQRGJwhg0StNbj1eegrHs12\", \"https://cdn.bokeh.org/bokeh/release/bokeh-widgets-2.1.1.min.js\": \"xIGPmVtaOm+z0BqfSOMn4lOR6ciex448GIKG4eE61LsAvmGj48XcMQZtKcE/UXZe\", \"https://cdn.bokeh.org/bokeh/release/bokeh-tables-2.1.1.min.js\": \"Dc9u1wF/0zApGIWoBbH77iWEHtdmkuYWG839Uzmv8y8yBLXebjO9ZnERsde5Ln/P\", \"https://cdn.bokeh.org/bokeh/release/bokeh-gl-2.1.1.min.js\": \"cT9JaBz7GiRXdENrJLZNSC6eMNF3nh3fa5fTF51Svp+ukxPdwcU5kGXGPBgDCa2j\"};\n\n    for (var i = 0; i < js_urls.length; i++) {\n      var url = js_urls[i];\n      var element = document.createElement('script');\n      element.onload = on_load;\n      element.onerror = on_error;\n      element.async = false;\n      element.src = url;\n      if (url in hashes) {\n        element.crossOrigin = \"anonymous\";\n        element.integrity = \"sha384-\" + hashes[url];\n      }\n      console.debug(\"Bokeh: injecting script tag for BokehJS library: \", url);\n      document.head.appendChild(element);\n    }\n  };\n\n  function inject_raw_css(css) {\n    const element = document.createElement(\"style\");\n    element.appendChild(document.createTextNode(css));\n    document.body.appendChild(element);\n  }\n\n  \n  var js_urls = [\"https://cdn.bokeh.org/bokeh/release/bokeh-2.1.1.min.js\", \"https://cdn.bokeh.org/bokeh/release/bokeh-widgets-2.1.1.min.js\", \"https://cdn.bokeh.org/bokeh/release/bokeh-tables-2.1.1.min.js\", \"https://cdn.bokeh.org/bokeh/release/bokeh-gl-2.1.1.min.js\"];\n  var css_urls = [];\n  \n\n  var inline_js = [\n    function(Bokeh) {\n      Bokeh.set_log_level(\"info\");\n    },\n    function(Bokeh) {\n    \n    \n    }\n  ];\n\n  function run_inline_js() {\n    \n    if (root.Bokeh !== undefined || force === true) {\n      \n    for (var i = 0; i < inline_js.length; i++) {\n      inline_js[i].call(root, root.Bokeh);\n    }\n    if (force === true) {\n        display_loaded();\n      }} else if (Date.now() < root._bokeh_timeout) {\n      setTimeout(run_inline_js, 100);\n    } else if (!root._bokeh_failed_load) {\n      console.log(\"Bokeh: BokehJS failed to load within specified timeout.\");\n      root._bokeh_failed_load = true;\n    } else if (force !== true) {\n      var cell = $(document.getElementById(\"7750\")).parents('.cell').data().cell;\n      cell.output_area.append_execute_result(NB_LOAD_WARNING)\n    }\n\n  }\n\n  if (root._bokeh_is_loading === 0) {\n    console.debug(\"Bokeh: BokehJS loaded, going straight to plotting\");\n    run_inline_js();\n  } else {\n    load_libs(css_urls, js_urls, function() {\n      console.debug(\"Bokeh: BokehJS plotting callback run at\", now());\n      run_inline_js();\n    });\n  }\n}(window));"
     },
     "metadata": {},
     "output_type": "display_data"
    }
   ],
   "source": [
    "output_notebook()"
   ]
  },
  {
   "cell_type": "markdown",
   "metadata": {},
   "source": [
    "For the south school, classroom a has a mea of 150.064, and classroom b has a mean of 149.208. That is a difference of .86 cm. \n",
    "\n",
    "Answer the following:\n",
    "\n",
    "Do you still think there is no difference between the two classrooms in the north school? Why? "
   ]
  },
  {
   "cell_type": "markdown",
   "metadata": {},
   "source": [
    "Mabye the difference in heigh between the two classrooms in the north school is just due to randomness. How can we know? \n",
    "\n",
    "Imagine an experiment. We got to a big city and find 1,000 students who are 12 years old. We ramdonly choose 25 for the first class, and 24 for the second (the original number of students for each). We calcuate the mean for each classroom. \n",
    "\n",
    "Answer the following: Do you expect the same result as the mean above (150.064 and 149.228)? Why? Do you expect the mean from either group to be much different from the original (around 150 cm)? Why? "
   ]
  },
  {
   "cell_type": "markdown",
   "metadata": {},
   "source": [
    "Now, imagine that we conduct the same experiment in the south classroom. We go into a big city and find 1,000 students who are 12 year olds. We choose 25 for class a. We find 1,000 students who are 17 years old. We choose 24 for classroom b. We calculate the mean for each classroom\n",
    "\n",
    "Answer the following:\n",
    "\n",
    "Do you expect the means for the two classrooms to be different? (Remember, on classroom has old students, and one has young students.) Why? \n",
    "\n",
    "Let's conduct the experiment in Python"
   ]
  },
  {
   "cell_type": "code",
   "execution_count": 400,
   "metadata": {},
   "outputs": [
    {
     "name": "stdout",
     "output_type": "stream",
     "text": [
      "the mean of resample 1 is 149.92 and the mean of resample2 is 149.12083333333334\n"
     ]
    },
    {
     "data": {
      "text/html": [
       "\n",
       "\n",
       "\n",
       "\n",
       "\n",
       "\n",
       "  <div class=\"bk-root\" id=\"127b5b9a-c28f-4cfa-8e03-0003fb9796ee\" data-root-id=\"79198\"></div>\n"
      ]
     },
     "metadata": {},
     "output_type": "display_data"
    },
    {
     "data": {
      "application/javascript": [
       "(function(root) {\n",
       "  function embed_document(root) {\n",
       "    \n",
       "  var docs_json = {\"f26b05b9-4ba6-4aae-b328-7c9549e5e883\":{\"roots\":{\"references\":[{\"attributes\":{\"children\":[{\"id\":\"79197\"},{\"id\":\"79195\"}]},\"id\":\"79198\",\"type\":\"Column\"},{\"attributes\":{},\"id\":\"79104\",\"type\":\"DataRange1d\"},{\"attributes\":{\"end\":160,\"start\":120},\"id\":\"79144\",\"type\":\"Range1d\"},{\"attributes\":{\"axis\":{\"id\":\"79112\"},\"grid_line_color\":null,\"ticker\":null},\"id\":\"79115\",\"type\":\"Grid\"},{\"attributes\":{\"fill_alpha\":{\"value\":0.1},\"fill_color\":{\"value\":\"#1f77b4\"},\"line_alpha\":{\"value\":0.1},\"line_color\":{\"value\":\"#1f77b4\"},\"top\":{\"field\":\"top\"},\"width\":{\"value\":0.9},\"x\":{\"field\":\"x\"}},\"id\":\"79136\",\"type\":\"VBar\"},{\"attributes\":{\"source\":{\"id\":\"79134\"}},\"id\":\"79138\",\"type\":\"CDSView\"},{\"attributes\":{\"active_drag\":\"auto\",\"active_inspect\":\"auto\",\"active_multi\":null,\"active_scroll\":\"auto\",\"active_tap\":\"auto\",\"tools\":[{\"id\":\"79158\"},{\"id\":\"79159\"},{\"id\":\"79160\"},{\"id\":\"79161\"},{\"id\":\"79162\"},{\"id\":\"79163\"}]},\"id\":\"79165\",\"type\":\"Toolbar\"},{\"attributes\":{\"axis\":{\"id\":\"79154\"},\"dimension\":1,\"ticker\":null},\"id\":\"79157\",\"type\":\"Grid\"},{\"attributes\":{},\"id\":\"79158\",\"type\":\"PanTool\"},{\"attributes\":{\"formatter\":{\"id\":\"79178\"},\"ticker\":{\"id\":\"79117\"}},\"id\":\"79116\",\"type\":\"LinearAxis\"},{\"attributes\":{},\"id\":\"79192\",\"type\":\"UnionRenderers\"},{\"attributes\":{\"axis\":{\"id\":\"79116\"},\"dimension\":1,\"ticker\":null},\"id\":\"79119\",\"type\":\"Grid\"},{\"attributes\":{\"bottom_units\":\"screen\",\"fill_alpha\":0.5,\"fill_color\":\"lightgrey\",\"left_units\":\"screen\",\"level\":\"overlay\",\"line_alpha\":1.0,\"line_color\":\"black\",\"line_dash\":[4,4],\"line_width\":2,\"right_units\":\"screen\",\"top_units\":\"screen\"},\"id\":\"79164\",\"type\":\"BoxAnnotation\"},{\"attributes\":{},\"id\":\"79159\",\"type\":\"WheelZoomTool\"},{\"attributes\":{},\"id\":\"79113\",\"type\":\"BasicTicker\"},{\"attributes\":{\"source\":{\"id\":\"79172\"}},\"id\":\"79176\",\"type\":\"CDSView\"},{\"attributes\":{},\"id\":\"79148\",\"type\":\"LinearScale\"},{\"attributes\":{},\"id\":\"79120\",\"type\":\"PanTool\"},{\"attributes\":{},\"id\":\"79125\",\"type\":\"HelpTool\"},{\"attributes\":{\"end\":160,\"start\":120},\"id\":\"79106\",\"type\":\"Range1d\"},{\"attributes\":{},\"id\":\"79155\",\"type\":\"BasicTicker\"},{\"attributes\":{},\"id\":\"79189\",\"type\":\"BasicTickFormatter\"},{\"attributes\":{},\"id\":\"79180\",\"type\":\"BasicTickFormatter\"},{\"attributes\":{\"children\":[[{\"id\":\"79101\"},0,0],[{\"id\":\"79139\"},0,1]]},\"id\":\"79195\",\"type\":\"GridBox\"},{\"attributes\":{},\"id\":\"79110\",\"type\":\"LinearScale\"},{\"attributes\":{\"axis\":{\"id\":\"79150\"},\"grid_line_color\":null,\"ticker\":null},\"id\":\"79153\",\"type\":\"Grid\"},{\"attributes\":{\"data\":{\"top\":[142.0,142.0,142.0,143.5,143.5,145.0,146.1,146.3,149.9,149.9,150.6,151.2,151.6,151.8,151.8,152.8,152.9,153.5,154.1,154.1,154.1,154.2,154.6,154.6,155.9],\"x\":[0,1,2,3,4,5,6,7,8,9,10,11,12,13,14,15,16,17,18,19,20,21,22,23,24]},\"selected\":{\"id\":\"79182\"},\"selection_policy\":{\"id\":\"79183\"}},\"id\":\"79134\",\"type\":\"ColumnDataSource\"},{\"attributes\":{\"text\":\"Resample A\"},\"id\":\"79102\",\"type\":\"Title\"},{\"attributes\":{\"fill_color\":{\"value\":\"#1f77b4\"},\"line_color\":{\"value\":\"#1f77b4\"},\"top\":{\"field\":\"top\"},\"width\":{\"value\":0.9},\"x\":{\"field\":\"x\"}},\"id\":\"79173\",\"type\":\"VBar\"},{\"attributes\":{\"data_source\":{\"id\":\"79134\"},\"glyph\":{\"id\":\"79135\"},\"hover_glyph\":null,\"muted_glyph\":null,\"nonselection_glyph\":{\"id\":\"79136\"},\"selection_glyph\":null,\"view\":{\"id\":\"79138\"}},\"id\":\"79137\",\"type\":\"GlyphRenderer\"},{\"attributes\":{\"overlay\":{\"id\":\"79164\"}},\"id\":\"79160\",\"type\":\"BoxZoomTool\"},{\"attributes\":{\"fill_color\":{\"value\":\"#1f77b4\"},\"line_color\":{\"value\":\"#1f77b4\"},\"top\":{\"field\":\"top\"},\"width\":{\"value\":0.9},\"x\":{\"field\":\"x\"}},\"id\":\"79135\",\"type\":\"VBar\"},{\"attributes\":{\"bottom_units\":\"screen\",\"fill_alpha\":0.5,\"fill_color\":\"lightgrey\",\"left_units\":\"screen\",\"level\":\"overlay\",\"line_alpha\":1.0,\"line_color\":\"black\",\"line_dash\":[4,4],\"line_width\":2,\"right_units\":\"screen\",\"top_units\":\"screen\"},\"id\":\"79126\",\"type\":\"BoxAnnotation\"},{\"attributes\":{\"below\":[{\"id\":\"79112\"}],\"center\":[{\"id\":\"79115\"},{\"id\":\"79119\"}],\"left\":[{\"id\":\"79116\"}],\"plot_height\":350,\"plot_width\":350,\"renderers\":[{\"id\":\"79137\"}],\"title\":{\"id\":\"79102\"},\"toolbar\":{\"id\":\"79127\"},\"toolbar_location\":null,\"x_range\":{\"id\":\"79104\"},\"x_scale\":{\"id\":\"79108\"},\"y_range\":{\"id\":\"79106\"},\"y_scale\":{\"id\":\"79110\"}},\"id\":\"79101\",\"subtype\":\"Figure\",\"type\":\"Plot\"},{\"attributes\":{\"formatter\":{\"id\":\"79187\"},\"ticker\":{\"id\":\"79155\"}},\"id\":\"79154\",\"type\":\"LinearAxis\"},{\"attributes\":{},\"id\":\"79117\",\"type\":\"BasicTicker\"},{\"attributes\":{},\"id\":\"79183\",\"type\":\"UnionRenderers\"},{\"attributes\":{},\"id\":\"79161\",\"type\":\"SaveTool\"},{\"attributes\":{},\"id\":\"79124\",\"type\":\"ResetTool\"},{\"attributes\":{\"below\":[{\"id\":\"79150\"}],\"center\":[{\"id\":\"79153\"},{\"id\":\"79157\"}],\"left\":[{\"id\":\"79154\"}],\"plot_height\":350,\"plot_width\":350,\"renderers\":[{\"id\":\"79175\"}],\"title\":{\"id\":\"79140\"},\"toolbar\":{\"id\":\"79165\"},\"toolbar_location\":null,\"x_range\":{\"id\":\"79142\"},\"x_scale\":{\"id\":\"79146\"},\"y_range\":{\"id\":\"79144\"},\"y_scale\":{\"id\":\"79148\"}},\"id\":\"79139\",\"subtype\":\"Figure\",\"type\":\"Plot\"},{\"attributes\":{},\"id\":\"79108\",\"type\":\"LinearScale\"},{\"attributes\":{},\"id\":\"79151\",\"type\":\"BasicTicker\"},{\"attributes\":{\"fill_alpha\":{\"value\":0.1},\"fill_color\":{\"value\":\"#1f77b4\"},\"line_alpha\":{\"value\":0.1},\"line_color\":{\"value\":\"#1f77b4\"},\"top\":{\"field\":\"top\"},\"width\":{\"value\":0.9},\"x\":{\"field\":\"x\"}},\"id\":\"79174\",\"type\":\"VBar\"},{\"attributes\":{},\"id\":\"79182\",\"type\":\"Selection\"},{\"attributes\":{\"formatter\":{\"id\":\"79189\"},\"ticker\":{\"id\":\"79151\"}},\"id\":\"79150\",\"type\":\"LinearAxis\"},{\"attributes\":{\"text\":\"Resample B\"},\"id\":\"79140\",\"type\":\"Title\"},{\"attributes\":{},\"id\":\"79123\",\"type\":\"SaveTool\"},{\"attributes\":{},\"id\":\"79162\",\"type\":\"ResetTool\"},{\"attributes\":{\"overlay\":{\"id\":\"79126\"}},\"id\":\"79122\",\"type\":\"BoxZoomTool\"},{\"attributes\":{\"active_drag\":\"auto\",\"active_inspect\":\"auto\",\"active_multi\":null,\"active_scroll\":\"auto\",\"active_tap\":\"auto\",\"tools\":[{\"id\":\"79120\"},{\"id\":\"79121\"},{\"id\":\"79122\"},{\"id\":\"79123\"},{\"id\":\"79124\"},{\"id\":\"79125\"}]},\"id\":\"79127\",\"type\":\"Toolbar\"},{\"attributes\":{},\"id\":\"79142\",\"type\":\"DataRange1d\"},{\"attributes\":{\"toolbar\":{\"id\":\"79196\"},\"toolbar_location\":\"above\"},\"id\":\"79197\",\"type\":\"ToolbarBox\"},{\"attributes\":{\"toolbars\":[{\"id\":\"79127\"},{\"id\":\"79165\"}],\"tools\":[{\"id\":\"79120\"},{\"id\":\"79121\"},{\"id\":\"79122\"},{\"id\":\"79123\"},{\"id\":\"79124\"},{\"id\":\"79125\"},{\"id\":\"79158\"},{\"id\":\"79159\"},{\"id\":\"79160\"},{\"id\":\"79161\"},{\"id\":\"79162\"},{\"id\":\"79163\"}]},\"id\":\"79196\",\"type\":\"ProxyToolbar\"},{\"attributes\":{},\"id\":\"79146\",\"type\":\"LinearScale\"},{\"attributes\":{},\"id\":\"79191\",\"type\":\"Selection\"},{\"attributes\":{\"formatter\":{\"id\":\"79180\"},\"ticker\":{\"id\":\"79113\"}},\"id\":\"79112\",\"type\":\"LinearAxis\"},{\"attributes\":{},\"id\":\"79178\",\"type\":\"BasicTickFormatter\"},{\"attributes\":{\"data\":{\"top\":[142.4,142.5,142.5,142.5,142.9,142.9,143.3,147.3,147.6,147.6,148.5,148.5,148.7,149.5,150.4,151.4,151.4,151.4,151.4,153.9,154.0,154.5,161.9,161.9],\"x\":[0,1,2,3,4,5,6,7,8,9,10,11,12,13,14,15,16,17,18,19,20,21,22,23]},\"selected\":{\"id\":\"79191\"},\"selection_policy\":{\"id\":\"79192\"}},\"id\":\"79172\",\"type\":\"ColumnDataSource\"},{\"attributes\":{},\"id\":\"79121\",\"type\":\"WheelZoomTool\"},{\"attributes\":{},\"id\":\"79187\",\"type\":\"BasicTickFormatter\"},{\"attributes\":{\"data_source\":{\"id\":\"79172\"},\"glyph\":{\"id\":\"79173\"},\"hover_glyph\":null,\"muted_glyph\":null,\"nonselection_glyph\":{\"id\":\"79174\"},\"selection_glyph\":null,\"view\":{\"id\":\"79176\"}},\"id\":\"79175\",\"type\":\"GlyphRenderer\"},{\"attributes\":{},\"id\":\"79163\",\"type\":\"HelpTool\"}],\"root_ids\":[\"79198\"]},\"title\":\"Bokeh Application\",\"version\":\"2.1.1\"}};\n",
       "  var render_items = [{\"docid\":\"f26b05b9-4ba6-4aae-b328-7c9549e5e883\",\"root_ids\":[\"79198\"],\"roots\":{\"79198\":\"127b5b9a-c28f-4cfa-8e03-0003fb9796ee\"}}];\n",
       "  root.Bokeh.embed.embed_items_notebook(docs_json, render_items);\n",
       "\n",
       "  }\n",
       "  if (root.Bokeh !== undefined) {\n",
       "    embed_document(root);\n",
       "  } else {\n",
       "    var attempts = 0;\n",
       "    var timer = setInterval(function(root) {\n",
       "      if (root.Bokeh !== undefined) {\n",
       "        clearInterval(timer);\n",
       "        embed_document(root);\n",
       "      } else {\n",
       "        attempts++;\n",
       "        if (attempts > 100) {\n",
       "          clearInterval(timer);\n",
       "          console.log(\"Bokeh: ERROR: Unable to run BokehJS code because BokehJS library is missing\");\n",
       "        }\n",
       "      }\n",
       "    }, 10, root)\n",
       "  }\n",
       "})(window);"
      ],
      "application/vnd.bokehjs_exec.v0+json": ""
     },
     "metadata": {
      "application/vnd.bokehjs_exec.v0+json": {
       "id": "79198"
      }
     },
     "output_type": "display_data"
    }
   ],
   "source": [
    "def resample(l):\n",
    "    \"\"\"There is a better way to do this; but this helps in explaining\"\"\"\n",
    "    population = l * 40 # we are making around 1,000 studens\n",
    "    random.shuffle(population) # mix them up\n",
    "    return population[:len(l)] # return number of sample size\n",
    "\n",
    "def make_grid():\n",
    "    resample_a = resample(NORTH_A)\n",
    "    resample_b = resample(NORTH_B)\n",
    "    p1= make_bar(labels = [x for x in range(len(resample_a))], nums = sorted(resample_a), \n",
    "               title = \"Resample A\", y_range = (120, 160))\n",
    "    p2 = make_bar(labels = [x for x in range(len(resample_b))], nums = sorted(resample_b), \n",
    "               title = \"Resample B\", y_range = (120, 160))\n",
    "    grid = gridplot([p1, p2], ncols = 2)\n",
    "    print('the mean of resample 1 is {r1} and the mean of resample2 is {r2}'.format(\n",
    "        r1 = np.mean(resample_a), r2 = np.mean(resample_b)))\n",
    "    return grid\n",
    "show(make_grid())\n"
   ]
  },
  {
   "cell_type": "markdown",
   "metadata": {},
   "source": [
    "The result is random, but you will most likely see that the graphs don't look different. Now let's try the same experiment for the south school\n"
   ]
  },
  {
   "cell_type": "code",
   "execution_count": 396,
   "metadata": {},
   "outputs": [
    {
     "name": "stdout",
     "output_type": "stream",
     "text": [
      "0.10977758524985742\n",
      "0.09885611109761742\n"
     ]
    }
   ],
   "source": [
    "import math\n",
    "def resample(l):\n",
    "    final = []\n",
    "    for i in range(len(l)):\n",
    "        final.append(random.choice(l))\n",
    "    return final\n",
    "\n",
    "means = []\n",
    "n = 10000\n",
    "o = [random.gauss(0, 1) for x in range(1000)]\n",
    "t =np.mean(o) +  (np.std(o)/math.sqrt(1000)) * 2\n",
    "print(t)\n",
    "\n",
    "for i in range(n):\n",
    "    means.append(np.mean(resample_(o)))\n",
    "\n",
    "print(np.quantile(means, .95))\n",
    "\n"
   ]
  },
  {
   "cell_type": "code",
   "execution_count": 157,
   "metadata": {},
   "outputs": [
    {
     "name": "stdout",
     "output_type": "stream",
     "text": [
      "The mean of the origin sample is 150.64 and the mean of the resampled is 159.424\n",
      "-15.48083333333338\n"
     ]
    },
    {
     "data": {
      "text/html": [
       "\n",
       "\n",
       "\n",
       "\n",
       "\n",
       "\n",
       "  <div class=\"bk-root\" id=\"4f6abade-bf6c-4f1e-b0cd-267e7cd3a6e7\" data-root-id=\"47306\"></div>\n"
      ]
     },
     "metadata": {},
     "output_type": "display_data"
    },
    {
     "data": {
      "application/javascript": [
       "(function(root) {\n",
       "  function embed_document(root) {\n",
       "    \n",
       "  var docs_json = {\"cf62385b-c787-47a7-b7a1-c003455591b8\":{\"roots\":{\"references\":[{\"attributes\":{\"children\":[{\"id\":\"47305\"},{\"id\":\"47303\"}]},\"id\":\"47306\",\"type\":\"Column\"},{\"attributes\":{\"source\":{\"id\":\"28248\"}},\"id\":\"28252\",\"type\":\"CDSView\"},{\"attributes\":{\"data\":{\"top\":[142.1,142.1,146.4,146.5,146.6,149.3,152.3,152.6,153.3,153.8,155.8,158.0,158.0,163.3,164.4,168.7,168.9,168.9,169.5,169.6,169.6,169.6,169.9,172.8,173.6],\"x\":[0,1,2,3,4,5,6,7,8,9,10,11,12,13,14,15,16,17,18,19,20,21,22,23,24]},\"selected\":{\"id\":\"47299\"},\"selection_policy\":{\"id\":\"47300\"}},\"id\":\"47280\",\"type\":\"ColumnDataSource\"},{\"attributes\":{\"toolbars\":[{\"id\":\"28241\"},{\"id\":\"47273\"}],\"tools\":[{\"id\":\"28234\"},{\"id\":\"28235\"},{\"id\":\"28236\"},{\"id\":\"28237\"},{\"id\":\"28238\"},{\"id\":\"28239\"},{\"id\":\"47266\"},{\"id\":\"47267\"},{\"id\":\"47268\"},{\"id\":\"47269\"},{\"id\":\"47270\"},{\"id\":\"47271\"}]},\"id\":\"47304\",\"type\":\"ProxyToolbar\"},{\"attributes\":{\"source\":{\"id\":\"47280\"}},\"id\":\"47284\",\"type\":\"CDSView\"},{\"attributes\":{},\"id\":\"28314\",\"type\":\"Selection\"},{\"attributes\":{\"toolbar\":{\"id\":\"47304\"},\"toolbar_location\":\"above\"},\"id\":\"47305\",\"type\":\"ToolbarBox\"},{\"attributes\":{\"formatter\":{\"id\":\"47295\"},\"ticker\":{\"id\":\"47263\"}},\"id\":\"47262\",\"type\":\"LinearAxis\"},{\"attributes\":{\"bottom_units\":\"screen\",\"fill_alpha\":0.5,\"fill_color\":\"lightgrey\",\"left_units\":\"screen\",\"level\":\"overlay\",\"line_alpha\":1.0,\"line_color\":\"black\",\"line_dash\":[4,4],\"line_width\":2,\"right_units\":\"screen\",\"top_units\":\"screen\"},\"id\":\"28240\",\"type\":\"BoxAnnotation\"},{\"attributes\":{},\"id\":\"28315\",\"type\":\"UnionRenderers\"},{\"attributes\":{\"data_source\":{\"id\":\"28248\"},\"glyph\":{\"id\":\"28249\"},\"hover_glyph\":null,\"muted_glyph\":null,\"nonselection_glyph\":{\"id\":\"28250\"},\"selection_glyph\":null,\"view\":{\"id\":\"28252\"}},\"id\":\"28251\",\"type\":\"GlyphRenderer\"},{\"attributes\":{},\"id\":\"28231\",\"type\":\"BasicTicker\"},{\"attributes\":{},\"id\":\"47266\",\"type\":\"PanTool\"},{\"attributes\":{\"text\":\"New Sample\"},\"id\":\"47248\",\"type\":\"Title\"},{\"attributes\":{\"fill_alpha\":{\"value\":0.1},\"fill_color\":{\"value\":\"#1f77b4\"},\"line_alpha\":{\"value\":0.1},\"line_color\":{\"value\":\"#1f77b4\"},\"top\":{\"field\":\"top\"},\"width\":{\"value\":0.9},\"x\":{\"field\":\"x\"}},\"id\":\"28250\",\"type\":\"VBar\"},{\"attributes\":{\"text\":\"South A\"},\"id\":\"28216\",\"type\":\"Title\"},{\"attributes\":{\"fill_color\":{\"value\":\"#1f77b4\"},\"line_color\":{\"value\":\"#1f77b4\"},\"top\":{\"field\":\"top\"},\"width\":{\"value\":0.9},\"x\":{\"field\":\"x\"}},\"id\":\"28249\",\"type\":\"VBar\"},{\"attributes\":{\"formatter\":{\"id\":\"28310\"},\"ticker\":{\"id\":\"28231\"}},\"id\":\"28230\",\"type\":\"LinearAxis\"},{\"attributes\":{},\"id\":\"47267\",\"type\":\"WheelZoomTool\"},{\"attributes\":{},\"id\":\"28218\",\"type\":\"DataRange1d\"},{\"attributes\":{},\"id\":\"47271\",\"type\":\"HelpTool\"},{\"attributes\":{\"axis\":{\"id\":\"28226\"},\"grid_line_color\":null,\"ticker\":null},\"id\":\"28229\",\"type\":\"Grid\"},{\"attributes\":{\"end\":180,\"start\":120},\"id\":\"28220\",\"type\":\"Range1d\"},{\"attributes\":{},\"id\":\"47270\",\"type\":\"ResetTool\"},{\"attributes\":{\"data_source\":{\"id\":\"47280\"},\"glyph\":{\"id\":\"47281\"},\"hover_glyph\":null,\"muted_glyph\":null,\"nonselection_glyph\":{\"id\":\"47282\"},\"selection_glyph\":null,\"view\":{\"id\":\"47284\"}},\"id\":\"47283\",\"type\":\"GlyphRenderer\"},{\"attributes\":{},\"id\":\"47269\",\"type\":\"SaveTool\"},{\"attributes\":{\"axis\":{\"id\":\"28230\"},\"dimension\":1,\"ticker\":null},\"id\":\"28233\",\"type\":\"Grid\"},{\"attributes\":{},\"id\":\"47250\",\"type\":\"DataRange1d\"},{\"attributes\":{\"end\":180,\"start\":120},\"id\":\"47252\",\"type\":\"Range1d\"},{\"attributes\":{\"overlay\":{\"id\":\"47272\"}},\"id\":\"47268\",\"type\":\"BoxZoomTool\"},{\"attributes\":{\"below\":[{\"id\":\"47258\"}],\"center\":[{\"id\":\"47261\"},{\"id\":\"47265\"}],\"left\":[{\"id\":\"47262\"}],\"plot_height\":350,\"plot_width\":350,\"renderers\":[{\"id\":\"47283\"}],\"title\":{\"id\":\"47248\"},\"toolbar\":{\"id\":\"47273\"},\"toolbar_location\":null,\"x_range\":{\"id\":\"47250\"},\"x_scale\":{\"id\":\"47254\"},\"y_range\":{\"id\":\"47252\"},\"y_scale\":{\"id\":\"47256\"}},\"id\":\"47247\",\"subtype\":\"Figure\",\"type\":\"Plot\"},{\"attributes\":{},\"id\":\"47297\",\"type\":\"BasicTickFormatter\"},{\"attributes\":{\"children\":[[{\"id\":\"28215\"},0,0],[{\"id\":\"47247\"},0,1]]},\"id\":\"47303\",\"type\":\"GridBox\"},{\"attributes\":{\"active_drag\":\"auto\",\"active_inspect\":\"auto\",\"active_multi\":null,\"active_scroll\":\"auto\",\"active_tap\":\"auto\",\"tools\":[{\"id\":\"47266\"},{\"id\":\"47267\"},{\"id\":\"47268\"},{\"id\":\"47269\"},{\"id\":\"47270\"},{\"id\":\"47271\"}]},\"id\":\"47273\",\"type\":\"Toolbar\"},{\"attributes\":{\"data\":{\"top\":[141.8,142.1,142.7,146.4,146.4,146.5,146.6,147.6,147.6,148.2,149.3,149.5,150.2,152.3,152.3,152.4,153.3,153.3,153.8,154.7,155.8,157.6,158.0,158.3,159.3],\"x\":[0,1,2,3,4,5,6,7,8,9,10,11,12,13,14,15,16,17,18,19,20,21,22,23,24]},\"selected\":{\"id\":\"28314\"},\"selection_policy\":{\"id\":\"28315\"}},\"id\":\"28248\",\"type\":\"ColumnDataSource\"},{\"attributes\":{\"axis\":{\"id\":\"47262\"},\"dimension\":1,\"ticker\":null},\"id\":\"47265\",\"type\":\"Grid\"},{\"attributes\":{},\"id\":\"47295\",\"type\":\"BasicTickFormatter\"},{\"attributes\":{\"below\":[{\"id\":\"28226\"}],\"center\":[{\"id\":\"28229\"},{\"id\":\"28233\"}],\"left\":[{\"id\":\"28230\"}],\"plot_height\":350,\"plot_width\":350,\"renderers\":[{\"id\":\"28251\"}],\"title\":{\"id\":\"28216\"},\"toolbar\":{\"id\":\"28241\"},\"toolbar_location\":null,\"x_range\":{\"id\":\"28218\"},\"x_scale\":{\"id\":\"28222\"},\"y_range\":{\"id\":\"28220\"},\"y_scale\":{\"id\":\"28224\"}},\"id\":\"28215\",\"subtype\":\"Figure\",\"type\":\"Plot\"},{\"attributes\":{},\"id\":\"28234\",\"type\":\"PanTool\"},{\"attributes\":{},\"id\":\"28310\",\"type\":\"BasicTickFormatter\"},{\"attributes\":{},\"id\":\"47254\",\"type\":\"LinearScale\"},{\"attributes\":{},\"id\":\"47263\",\"type\":\"BasicTicker\"},{\"attributes\":{},\"id\":\"47299\",\"type\":\"Selection\"},{\"attributes\":{},\"id\":\"28235\",\"type\":\"WheelZoomTool\"},{\"attributes\":{},\"id\":\"47300\",\"type\":\"UnionRenderers\"},{\"attributes\":{\"overlay\":{\"id\":\"28240\"}},\"id\":\"28236\",\"type\":\"BoxZoomTool\"},{\"attributes\":{},\"id\":\"28312\",\"type\":\"BasicTickFormatter\"},{\"attributes\":{},\"id\":\"47259\",\"type\":\"BasicTicker\"},{\"attributes\":{},\"id\":\"47256\",\"type\":\"LinearScale\"},{\"attributes\":{},\"id\":\"28237\",\"type\":\"SaveTool\"},{\"attributes\":{\"formatter\":{\"id\":\"47297\"},\"ticker\":{\"id\":\"47259\"}},\"id\":\"47258\",\"type\":\"LinearAxis\"},{\"attributes\":{},\"id\":\"28222\",\"type\":\"LinearScale\"},{\"attributes\":{\"bottom_units\":\"screen\",\"fill_alpha\":0.5,\"fill_color\":\"lightgrey\",\"left_units\":\"screen\",\"level\":\"overlay\",\"line_alpha\":1.0,\"line_color\":\"black\",\"line_dash\":[4,4],\"line_width\":2,\"right_units\":\"screen\",\"top_units\":\"screen\"},\"id\":\"47272\",\"type\":\"BoxAnnotation\"},{\"attributes\":{},\"id\":\"28238\",\"type\":\"ResetTool\"},{\"attributes\":{},\"id\":\"28227\",\"type\":\"BasicTicker\"},{\"attributes\":{},\"id\":\"28239\",\"type\":\"HelpTool\"},{\"attributes\":{\"formatter\":{\"id\":\"28312\"},\"ticker\":{\"id\":\"28227\"}},\"id\":\"28226\",\"type\":\"LinearAxis\"},{\"attributes\":{\"fill_color\":{\"value\":\"#1f77b4\"},\"line_color\":{\"value\":\"#1f77b4\"},\"top\":{\"field\":\"top\"},\"width\":{\"value\":0.9},\"x\":{\"field\":\"x\"}},\"id\":\"47281\",\"type\":\"VBar\"},{\"attributes\":{\"axis\":{\"id\":\"47258\"},\"grid_line_color\":null,\"ticker\":null},\"id\":\"47261\",\"type\":\"Grid\"},{\"attributes\":{},\"id\":\"28224\",\"type\":\"LinearScale\"},{\"attributes\":{\"active_drag\":\"auto\",\"active_inspect\":\"auto\",\"active_multi\":null,\"active_scroll\":\"auto\",\"active_tap\":\"auto\",\"tools\":[{\"id\":\"28234\"},{\"id\":\"28235\"},{\"id\":\"28236\"},{\"id\":\"28237\"},{\"id\":\"28238\"},{\"id\":\"28239\"}]},\"id\":\"28241\",\"type\":\"Toolbar\"},{\"attributes\":{\"fill_alpha\":{\"value\":0.1},\"fill_color\":{\"value\":\"#1f77b4\"},\"line_alpha\":{\"value\":0.1},\"line_color\":{\"value\":\"#1f77b4\"},\"top\":{\"field\":\"top\"},\"width\":{\"value\":0.9},\"x\":{\"field\":\"x\"}},\"id\":\"47282\",\"type\":\"VBar\"}],\"root_ids\":[\"47306\"]},\"title\":\"Bokeh Application\",\"version\":\"2.1.1\"}};\n",
       "  var render_items = [{\"docid\":\"cf62385b-c787-47a7-b7a1-c003455591b8\",\"root_ids\":[\"47306\"],\"roots\":{\"47306\":\"4f6abade-bf6c-4f1e-b0cd-267e7cd3a6e7\"}}];\n",
       "  root.Bokeh.embed.embed_items_notebook(docs_json, render_items);\n",
       "\n",
       "  }\n",
       "  if (root.Bokeh !== undefined) {\n",
       "    embed_document(root);\n",
       "  } else {\n",
       "    var attempts = 0;\n",
       "    var timer = setInterval(function(root) {\n",
       "      if (root.Bokeh !== undefined) {\n",
       "        clearInterval(timer);\n",
       "        embed_document(root);\n",
       "      } else {\n",
       "        attempts++;\n",
       "        if (attempts > 100) {\n",
       "          clearInterval(timer);\n",
       "          console.log(\"Bokeh: ERROR: Unable to run BokehJS code because BokehJS library is missing\");\n",
       "        }\n",
       "      }\n",
       "    }, 10, root)\n",
       "  }\n",
       "})(window);"
      ],
      "application/vnd.bokehjs_exec.v0+json": ""
     },
     "metadata": {
      "application/vnd.bokehjs_exec.v0+json": {
       "id": "47306"
      }
     },
     "output_type": "display_data"
    }
   ],
   "source": [
    "BOTH_A_B = SOUTH_A + SOUTH_B\n",
    "random.shuffle(BOTH_A_B)\n",
    "NEW_SAMPLE = BOTH_A_B[0:25] \n",
    "\n",
    "P_NEW = make_bar(labels = [x for x in range(len(NEW_SAMPLE))], nums = sorted(NEW_SAMPLE), \n",
    "               title = \"New Sample\", y_range = (120, 180))\n",
    "GRID = gridplot([P_SOUTH_A, P_NEW], ncols = 2)\n",
    "print('The mean of the origin sample is {o} and the mean of the resampled is {r}'.format(\n",
    "    o = np.mean(SOUTH_A), r = np.mean(NEW_SAMPLE))\n",
    "     )\n",
    "print(np.mean(SOUTH_A) - np.mean(SOUTH_B))\n",
    "show(GRID)"
   ]
  },
  {
   "cell_type": "code",
   "execution_count": 154,
   "metadata": {},
   "outputs": [],
   "source": [
    "def resample_two_samples(sample1, sample2, num_iterations = 100):\n",
    "    both = sample1 + sample2\n",
    "    mean1 = []\n",
    "    mean2 = []\n",
    "    for i in range(num_iterations):\n",
    "        random.shuffle(both) \n",
    "        new_1 = both[0:len(sample1)] \n",
    "        new_2 = both[len(sample1):] \n",
    "        mean1.append(np.mean(new_1)) \n",
    "        mean2.append(np.mean(new_2)) \n",
    "    return mean1, mean2"
   ]
  },
  {
   "cell_type": "code",
   "execution_count": 161,
   "metadata": {},
   "outputs": [
    {
     "name": "stdout",
     "output_type": "stream",
     "text": [
      "[149.2, 150.2, 149.4, 149.2, 150.5, 150.4, 149.3, 148.6, 150.8, 149.7, 149.7, 149.7, 150.9, 149.5, 149.8, 149.7, 149.7, 150.2, 149.4, 149.9, 149.6, 148.3, 149.8, 149.8, 149.4, 149.8, 150.0, 149.1, 149.3, 148.8, 150.1, 149.2, 149.9, 149.4, 151.4, 150.1, 149.5, 149.9, 149.1, 150.3, 150.4, 150.2, 149.3, 148.8, 149.1, 149.4, 149.1, 150.5, 149.6, 149.2, 150.1, 149.3, 149.8, 150.0, 150.3, 149.6, 150.1, 151.3, 149.5, 150.0, 149.9, 148.9, 150.2, 148.6, 149.0, 151.0, 150.0, 149.6, 149.0, 150.7, 148.9, 149.5, 151.1, 149.6, 149.1, 149.4, 150.5, 148.4, 149.9, 149.6, 149.5, 149.6, 148.8, 150.4, 150.1, 150.7, 149.0, 149.9, 150.2, 149.6, 150.3, 150.0, 150.3, 150.0, 150.2, 148.8, 149.2, 149.0, 150.3, 149.5]\n",
      "\n",
      "[150.1, 149.1, 149.9, 150.1, 148.8, 148.8, 150.0, 150.7, 148.4, 149.6, 149.6, 149.6, 148.4, 149.8, 149.5, 149.6, 149.6, 149.1, 149.9, 149.4, 149.7, 151.1, 149.4, 149.4, 149.9, 149.5, 149.3, 150.3, 150.0, 150.6, 149.2, 150.1, 149.4, 149.9, 147.8, 149.2, 149.8, 149.4, 150.2, 149.0, 148.9, 149.0, 150.0, 150.6, 150.2, 150.0, 150.2, 148.8, 149.7, 150.1, 149.2, 150.0, 149.4, 149.3, 148.9, 149.7, 149.2, 147.9, 149.7, 149.2, 149.4, 150.4, 149.1, 150.8, 150.3, 148.2, 149.3, 149.7, 150.3, 148.5, 150.4, 149.8, 148.1, 149.7, 150.2, 149.9, 148.7, 150.9, 149.4, 149.7, 149.8, 149.7, 150.6, 148.9, 149.2, 148.5, 150.3, 149.4, 149.1, 149.7, 149.0, 149.3, 149.0, 149.3, 149.0, 150.5, 150.1, 150.3, 149.0, 149.8]\n"
     ]
    }
   ],
   "source": [
    "resampled_means1, resampled_means2 = resample_two_samples(get_classroom_north_a(), get_classroom_north_b())\n",
    "resampled_means1 = [round(x,1) for x in resampled_means1]\n",
    "resampled_means2 = [round(x,1) for x in resampled_means2]\n",
    "print(resampled_means1)\n",
    "print()\n",
    "print(resampled_means2)"
   ]
  },
  {
   "cell_type": "markdown",
   "metadata": {},
   "source": [
    "Have a look at the code above. We used Python to conduct the experiment with bringing the students into the cafeteria, and randomly choosing 25. The random.shuffle code mixed the students. We did this experiment 100 times. Each time we did the experiment, we calculated the mean. \n",
    "\n",
    "Each of these samples is called a *resampled* mean because we re sampled (in this case, 100 times).\n",
    "\n",
    "Answer the following. Do not use a calculator! The mean of classroom a was 150. Does the first resampeld mean look any different from that mean? Why?\n",
    "\n",
    "The mean for classroom b was 149. Does the mean of the second sample look any different from the the resampled mean? Why? "
   ]
  },
  {
   "cell_type": "code",
   "execution_count": 56,
   "metadata": {},
   "outputs": [
    {
     "name": "stdout",
     "output_type": "stream",
     "text": [
      "[157.5, 157.8, 157.9, 158.7, 159.3, 157.0, 155.7, 158.3, 156.8, 158.3, 156.7, 158.5, 159.9, 161.4, 158.8, 159.7, 156.7, 157.5, 157.0, 160.8, 157.6, 158.5, 158.3, 158.8, 158.2, 156.5, 158.3, 159.3, 156.9, 158.7, 158.8, 158.5, 156.5, 158.1, 159.4, 160.1, 158.9, 160.1, 157.2, 157.7, 159.1, 159.0, 158.5, 159.3, 157.0, 157.9, 157.4, 158.4, 159.8, 159.3, 160.6, 159.1, 157.7, 159.1, 156.0, 156.5, 159.1, 156.6, 159.1, 158.5, 157.7, 158.9, 159.6, 156.8, 155.6, 159.0, 156.2, 161.8, 160.7, 160.2, 160.8, 159.8, 159.1, 156.1, 159.8, 157.4, 159.1, 159.9, 158.6, 159.0, 158.4, 158.3, 159.7, 158.1, 157.5, 160.8, 156.4, 161.8, 157.7, 158.3, 156.9, 159.0, 159.3, 159.5, 159.0, 160.9, 158.3, 157.9, 160.0, 160.0]\n",
      "\n",
      "[159.2, 159.0, 158.9, 158.1, 157.4, 159.8, 161.1, 158.4, 159.9, 158.4, 160.1, 158.2, 156.8, 155.3, 157.9, 157.0, 160.1, 159.3, 159.7, 155.9, 159.1, 158.3, 158.4, 157.9, 158.5, 160.2, 158.4, 157.5, 159.9, 158.1, 157.9, 158.2, 160.2, 158.6, 157.3, 156.7, 157.8, 156.6, 159.5, 159.0, 157.7, 157.7, 158.2, 157.5, 159.7, 158.8, 159.4, 158.4, 157.0, 157.4, 156.1, 157.6, 159.0, 157.6, 160.7, 160.2, 157.6, 160.2, 157.6, 158.2, 159.0, 157.8, 157.1, 159.9, 161.1, 157.7, 160.5, 154.9, 156.1, 156.6, 156.0, 157.0, 157.6, 160.6, 156.9, 159.3, 157.7, 156.9, 158.1, 157.8, 158.3, 158.4, 157.0, 158.7, 159.2, 155.9, 160.3, 154.9, 159.0, 158.4, 159.8, 157.7, 157.4, 157.3, 157.7, 155.8, 158.4, 158.8, 156.8, 156.7]\n"
     ]
    }
   ],
   "source": [
    "resampled_means1, resampled_means2 = resample_two_samples(get_classroom_south_a(), get_classroom_south_b())\n",
    "resampled_means1 = [round(x,1) for x in resampled_means1]\n",
    "resampled_means2 = [round(x,1) for x in resampled_means2]\n",
    "print(resampled_means1)\n",
    "print()\n",
    "print(resampled_means2)"
   ]
  },
  {
   "cell_type": "markdown",
   "metadata": {},
   "source": [
    "We resampled the two classrooms from the south school\n",
    "\n",
    "Answer the following. Does the mean of classroom a (151) look different from the resample a?\n",
    "\n",
    "Does the the mean of classroom b (166) look different from the resample b? "
   ]
  },
  {
   "cell_type": "markdown",
   "metadata": {},
   "source": [
    "Population vs Samples\n",
    "\n",
    "In statistics, we talk about a sample and the population. The population is *everthing*. For example, the population for the average rainfall in the Amazon is the average for every single year, from the beginnig of time until the end of the world. A sample is the set of year 2000 to 2010. \n",
    "\n",
    "Generally we think of our data sets as samples. We can never have all the data. We only have little bits. We have to guess what these little bits mean.\n",
    "\n",
    "In the above example with students, we can think of each classroom as a sample. We can think of mixing the students as the population. \n",
    "\n",
    "If the students come from the same population, then if we mix them up (resample) we would expect to get the same results. But if they came from different populations, we would expect to get different results. \n",
    "\n",
    "For the south school, we can think of the students coming from the same population. That is why the resampled means look the same.\n",
    "\n",
    "But for the north school, the students came from different populations. "
   ]
  },
  {
   "cell_type": "code",
   "execution_count": 62,
   "metadata": {},
   "outputs": [
    {
     "name": "stdout",
     "output_type": "stream",
     "text": [
      "[0.5, -0.8, 0.4, -0.4, -0.3, -0.4, 0.5, 0.2, -0.3, 0.7, 0.8, 1.1, 0.8, 0.9, 0.5, 1.0, 0.1, 0.3, 0.3, 0.2, 0.4, 0.9, 0.3, 1.3, 0.7, 0.1, 0.2, 0.3, 0.3, -0.2, 0.7, -0.3, 0.9, 0.1, 0.4, 1.3, -0.2, -0.3, -0.2, 0.5, 0.8, 0.4, 0.7, 1.4, -0.3, -0.3, 0.8, -1.0, -0.5, 0.5, 0.9, -0.5, 0.2, -0.5, 0.3, 0.5, 1.4, 0.2, 1.8, 1.0, -0.4, 0.8, 0.6, 0.9, 1.5, 1.2, -0.4, 0.6, 1.5, 0.3, 1.2, 0.2, -1.2, 0.1, 0.3, 0.4, -0.4, -0.1, 0.4, 2.3, 0.3, -0.5, 0.3, 0.7, -0.5, 0.1, -0.9, 0.3, 0.6, 0.8, 0.3, 0.8, -0.0, 0.7, 0.7, 0.4, -0.6, 1.2, 1.6, 0.4]\n"
     ]
    }
   ],
   "source": [
    "# redo the experiment\n",
    "resampled_means1, resampled_means2 = resample_two_samples(get_classroom_north_a(), get_classroom_north_b())\n",
    "diff1 = []\n",
    "#get the mean of classroom a (150.1)\n",
    "mean1 = np.mean(get_classroom_north_a())\n",
    "# find out how different each resampled mean is from the classroom\n",
    "for i in resampled_means1:\n",
    "    difference = mean1 - i\n",
    "    difference = round(difference,1)\n",
    "    diff1.append(difference)\n",
    "print(diff1)\n"
   ]
  },
  {
   "cell_type": "markdown",
   "metadata": {},
   "source": [
    "Notice how the difference in the reseampled means is sometimes greater, and sometimes less? "
   ]
  },
  {
   "cell_type": "code",
   "execution_count": null,
   "metadata": {},
   "outputs": [],
   "source": [
    "def resample(l):\n",
    "    final = []\n",
    "    for i in range(len(l)):\n",
    "        final.append(random.choice(l))"
   ]
  }
 ],
 "metadata": {
  "kernelspec": {
   "display_name": "Python 3",
   "language": "python",
   "name": "python3"
  },
  "language_info": {
   "codemirror_mode": {
    "name": "ipython",
    "version": 3
   },
   "file_extension": ".py",
   "mimetype": "text/x-python",
   "name": "python",
   "nbconvert_exporter": "python",
   "pygments_lexer": "ipython3",
   "version": "3.6.9"
  }
 },
 "nbformat": 4,
 "nbformat_minor": 4
}
