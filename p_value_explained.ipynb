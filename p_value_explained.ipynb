{
 "cells": [
  {
   "cell_type": "code",
   "execution_count": 1,
   "metadata": {},
   "outputs": [],
   "source": [
    "import os\n",
    "import datetime\n",
    "import random\n",
    "import numpy as np\n",
    "import math\n"
   ]
  },
  {
   "cell_type": "code",
   "execution_count": 2,
   "metadata": {},
   "outputs": [],
   "source": [
    "def resample(l):\n",
    "    final = []\n",
    "    for i in range(len(l)):\n",
    "        final.append(random.choice(l))\n",
    "    return final"
   ]
  },
  {
   "cell_type": "code",
   "execution_count": 3,
   "metadata": {},
   "outputs": [],
   "source": [
    "def repeat_resample(sample_a, sample_b, num_iter = 1000):\n",
    "    difference_in_means = []#keep track of the difference in heights for each experiment\n",
    "    for i in range(num_iter):\n",
    "        resample_a = resample(sample_a)\n",
    "        resample_b = resample(sample_b)\n",
    "        difference = np.mean(resample_a) - np.mean(resample_b)\n",
    "        difference_in_means.append(difference)\n",
    "    return difference_in_means"
   ]
  },
  {
   "cell_type": "code",
   "execution_count": 24,
   "metadata": {},
   "outputs": [],
   "source": [
    "def get_p_value_ex(samp1, samp2):\n",
    "    if np.mean(samp2) > np.mean(samp1):\n",
    "        resamp_diff = repeat_resample(samp2, samp1)\n",
    "    else:\n",
    "        resamp_diff = repeat_resample(samp1, samp2)\n",
    "    return resamp_diff"
   ]
  },
  {
   "cell_type": "code",
   "execution_count": 26,
   "metadata": {},
   "outputs": [
    {
     "name": "stdout",
     "output_type": "stream",
     "text": [
      "0\n",
      "1000\n",
      "0.0\n",
      "0.0\n"
     ]
    }
   ],
   "source": [
    "\"\"\"\n",
    "Let's test things out\n",
    "\"\"\"\n",
    "\n",
    "# first generate random numbers\n",
    "# not that I added 20 to each number in s1, so s2 will be bigger\n",
    "s1 = [random.randrange(90, 100) for x in range(100)]\n",
    "s2 = [x + 20 for x in s1]\n",
    "\n",
    "\"\"\"Let's make a null hypothesis: \n",
    "s1 is not greater than s2\n",
    "Now let's test\n",
    "\n",
    "\"\"\"\n",
    "resamp_diff = repeat_resample(s1, s2)\n",
    "leng = len([x for x in resamp_diff if x > 0])\n",
    "print(leng)\n",
    "\"\"\"\n",
    "What happened? None of our values were greater than 0. Does that mean there is not a difference between the\n",
    "two samples? No! Let's look at this a different way:\n",
    "\"\"\"\n",
    "leng2 = len([x for x in resamp_diff if x < 0])\n",
    "print(leng2)\n",
    "\"\"\"\n",
    "Now we find all the values are different. That is because we checked that s1 < s2, which his true. \n",
    "\n",
    "The important lesson here is that we must decide how to formulate our null hypothesis, or, we must decide\n",
    "how to look at our data. If either all the values are greater OR all the values are less, we know the samples\n",
    "must be different. \n",
    "\n",
    "An easy fix it in the fucntion above, \"get_p_value_ex\". Here, we check which sample is bigger, and put that first.\n",
    "Then, when you test, always test for the larger. \n",
    "\"\"\"\n",
    "\n",
    "resamp_diff = get_p_value_ex(s1, s2)\n",
    "p_value = 1 - len([x for x in resamp_diff if x > 0])/len(resamp_diff)\n",
    "print(p_value)\n",
    "resamp_diff = get_p_value_ex(s2, s1)\n",
    "p_value = 1 - len([x for x in resamp_diff if x > 0])/len(resamp_diff)\n",
    "print(p_value)\n",
    "\n",
    "\"\"\"\n",
    "You can see that no matter what sample we put first, we still got the correct p value (since we are testing\n",
    "if the samples are different, either greater or less than)\n",
    "\"\"\"\n"
   ]
  },
  {
   "cell_type": "code",
   "execution_count": null,
   "metadata": {},
   "outputs": [],
   "source": []
  }
 ],
 "metadata": {
  "kernelspec": {
   "display_name": "Python 3",
   "language": "python",
   "name": "python3"
  },
  "language_info": {
   "codemirror_mode": {
    "name": "ipython",
    "version": 3
   },
   "file_extension": ".py",
   "mimetype": "text/x-python",
   "name": "python",
   "nbconvert_exporter": "python",
   "pygments_lexer": "ipython3",
   "version": "3.6.9"
  }
 },
 "nbformat": 4,
 "nbformat_minor": 4
}
